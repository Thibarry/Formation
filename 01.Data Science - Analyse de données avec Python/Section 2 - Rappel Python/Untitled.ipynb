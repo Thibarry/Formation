{
 "cells": [
  {
   "cell_type": "markdown",
   "id": "eb2a66d2",
   "metadata": {},
   "source": [
    "# Rappel Python"
   ]
  },
  {
   "cell_type": "markdown",
   "id": "67c26fcc",
   "metadata": {},
   "source": [
    "### variables & types de données"
   ]
  },
  {
   "cell_type": "code",
   "execution_count": 2,
   "id": "c3babf59",
   "metadata": {},
   "outputs": [],
   "source": [
    "days = 365"
   ]
  },
  {
   "cell_type": "code",
   "execution_count": 3,
   "id": "fb9da81e",
   "metadata": {},
   "outputs": [],
   "source": [
    "number_days = 365"
   ]
  },
  {
   "cell_type": "code",
   "execution_count": 4,
   "id": "6f614e59",
   "metadata": {},
   "outputs": [],
   "source": [
    "days_1 = 365\n",
    "days_2 = 366"
   ]
  },
  {
   "cell_type": "code",
   "execution_count": 5,
   "id": "6fb33f73",
   "metadata": {},
   "outputs": [],
   "source": [
    "number_days = 366"
   ]
  },
  {
   "cell_type": "code",
   "execution_count": 6,
   "id": "e166353a",
   "metadata": {},
   "outputs": [
    {
     "data": {
      "text/plain": [
       "366"
      ]
     },
     "execution_count": 6,
     "metadata": {},
     "output_type": "execute_result"
    }
   ],
   "source": [
    "number_days"
   ]
  },
  {
   "cell_type": "code",
   "execution_count": 7,
   "id": "f0e15bc8",
   "metadata": {},
   "outputs": [
    {
     "name": "stdout",
     "output_type": "stream",
     "text": [
      "366\n"
     ]
    }
   ],
   "source": [
    "print(number_days)"
   ]
  },
  {
   "cell_type": "code",
   "execution_count": 8,
   "id": "1cdd76ad",
   "metadata": {},
   "outputs": [],
   "source": [
    "france = 123"
   ]
  },
  {
   "cell_type": "code",
   "execution_count": 9,
   "id": "c373bf55",
   "metadata": {},
   "outputs": [
    {
     "name": "stdout",
     "output_type": "stream",
     "text": [
      "<class 'int'>\n"
     ]
    }
   ],
   "source": [
    "print(type(france))"
   ]
  },
  {
   "cell_type": "code",
   "execution_count": 10,
   "id": "3b89576e",
   "metadata": {},
   "outputs": [
    {
     "name": "stdout",
     "output_type": "stream",
     "text": [
      "<class 'float'>\n"
     ]
    }
   ],
   "source": [
    "# float - nombres à virgules\n",
    "\n",
    "data_float = 122.5\n",
    "print(type(data_float))"
   ]
  },
  {
   "cell_type": "code",
   "execution_count": 11,
   "id": "e5f8e923",
   "metadata": {},
   "outputs": [
    {
     "name": "stdout",
     "output_type": "stream",
     "text": [
      "<class 'str'>\n"
     ]
    }
   ],
   "source": [
    "# string\n",
    "\n",
    "hello = 'Hello'\n",
    "print(type(hello))"
   ]
  },
  {
   "cell_type": "code",
   "execution_count": 12,
   "id": "d70f4fc7",
   "metadata": {},
   "outputs": [
    {
     "name": "stdout",
     "output_type": "stream",
     "text": [
      "<class 'bool'>\n"
     ]
    }
   ],
   "source": [
    "true_type = True\n",
    "print(type(true_type))"
   ]
  },
  {
   "cell_type": "code",
   "execution_count": 13,
   "id": "7f40d954",
   "metadata": {},
   "outputs": [
    {
     "name": "stdout",
     "output_type": "stream",
     "text": [
      "<class 'str'>\n"
     ]
    }
   ],
   "source": [
    "# str() et int()\n",
    "str_int = \"2\"\n",
    "print(type(str_int))"
   ]
  },
  {
   "cell_type": "code",
   "execution_count": 14,
   "id": "2bdc3b79",
   "metadata": {},
   "outputs": [
    {
     "name": "stdout",
     "output_type": "stream",
     "text": [
      "<class 'int'>\n"
     ]
    }
   ],
   "source": [
    "str_int = int(str_int)\n",
    "print(type(str_int))"
   ]
  },
  {
   "cell_type": "code",
   "execution_count": 15,
   "id": "2036c2cf",
   "metadata": {},
   "outputs": [
    {
     "name": "stdout",
     "output_type": "stream",
     "text": [
      "177\n"
     ]
    }
   ],
   "source": [
    "somme = 95 + 82\n",
    "print(somme)"
   ]
  },
  {
   "cell_type": "code",
   "execution_count": 17,
   "id": "abfbb343",
   "metadata": {},
   "outputs": [
    {
     "name": "stdout",
     "output_type": "stream",
     "text": [
      "177\n"
     ]
    }
   ],
   "source": [
    "spain = 95\n",
    "france = 82\n",
    "somme_france_spain = france + spain\n",
    "print(somme_france_spain)"
   ]
  },
  {
   "cell_type": "code",
   "execution_count": 18,
   "id": "50079fbf",
   "metadata": {},
   "outputs": [
    {
     "name": "stdout",
     "output_type": "stream",
     "text": [
      "6724\n"
     ]
    }
   ],
   "source": [
    "france_puissance2 = france**2\n",
    "print(france_puissance2)"
   ]
  },
  {
   "cell_type": "markdown",
   "id": "efb988ff",
   "metadata": {},
   "source": [
    "### Listes & Dictionnaires"
   ]
  },
  {
   "cell_type": "markdown",
   "id": "a2dfd7d8",
   "metadata": {},
   "source": [
    "Listes"
   ]
  },
  {
   "cell_type": "code",
   "execution_count": 19,
   "id": "bd467d56",
   "metadata": {},
   "outputs": [],
   "source": [
    "months = []"
   ]
  },
  {
   "cell_type": "code",
   "execution_count": 20,
   "id": "067115d3",
   "metadata": {},
   "outputs": [],
   "source": [
    "# list.append()\n",
    "months.append(\"Janvier\")\n",
    "months.append(\"Février\")"
   ]
  },
  {
   "cell_type": "code",
   "execution_count": 21,
   "id": "fb44d174",
   "metadata": {},
   "outputs": [
    {
     "name": "stdout",
     "output_type": "stream",
     "text": [
      "['Janvier', 'Février']\n"
     ]
    }
   ],
   "source": [
    "print(months)"
   ]
  },
  {
   "cell_type": "code",
   "execution_count": 22,
   "id": "731a5801",
   "metadata": {},
   "outputs": [
    {
     "name": "stdout",
     "output_type": "stream",
     "text": [
      "<class 'list'>\n"
     ]
    }
   ],
   "source": [
    "print(type(months))"
   ]
  },
  {
   "cell_type": "code",
   "execution_count": 24,
   "id": "2f6b1583",
   "metadata": {},
   "outputs": [
    {
     "name": "stdout",
     "output_type": "stream",
     "text": [
      "[1, 'Février', 2, 'Février']\n"
     ]
    }
   ],
   "source": [
    "months = []\n",
    "months.append(1)\n",
    "months.append(\"Février\")\n",
    "months.append(2)\n",
    "months.append(\"Février\")\n",
    "print(months)"
   ]
  },
  {
   "cell_type": "code",
   "execution_count": 25,
   "id": "456fe83e",
   "metadata": {},
   "outputs": [
    {
     "name": "stdout",
     "output_type": "stream",
     "text": [
      "[1, 'Février', 2, 'Février']\n"
     ]
    }
   ],
   "source": [
    "months = [1,\"Février\",2,\"Février\"]\n",
    "print(months)"
   ]
  },
  {
   "cell_type": "code",
   "execution_count": 26,
   "id": "c651ac37",
   "metadata": {},
   "outputs": [],
   "source": [
    "years = [2013, 2014, 2015, 2016, 2017, 2018]"
   ]
  },
  {
   "cell_type": "code",
   "execution_count": 27,
   "id": "d994833c",
   "metadata": {},
   "outputs": [
    {
     "name": "stdout",
     "output_type": "stream",
     "text": [
      "2013\n"
     ]
    }
   ],
   "source": [
    "first_value = years[0]\n",
    "print(first_value)"
   ]
  },
  {
   "cell_type": "code",
   "execution_count": 28,
   "id": "872b8194",
   "metadata": {},
   "outputs": [
    {
     "data": {
      "text/plain": [
       "2014"
      ]
     },
     "execution_count": 28,
     "metadata": {},
     "output_type": "execute_result"
    }
   ],
   "source": [
    "years[1]"
   ]
  },
  {
   "cell_type": "code",
   "execution_count": 29,
   "id": "e5ab6a98",
   "metadata": {},
   "outputs": [
    {
     "data": {
      "text/plain": [
       "2017"
      ]
     },
     "execution_count": 29,
     "metadata": {},
     "output_type": "execute_result"
    }
   ],
   "source": [
    "years[4]"
   ]
  },
  {
   "cell_type": "code",
   "execution_count": 30,
   "id": "c0b907c3",
   "metadata": {},
   "outputs": [
    {
     "data": {
      "text/plain": [
       "[2013, 2014, 2015]"
      ]
     },
     "execution_count": 30,
     "metadata": {},
     "output_type": "execute_result"
    }
   ],
   "source": [
    "years[0:3]"
   ]
  },
  {
   "cell_type": "code",
   "execution_count": 38,
   "id": "efe1672b",
   "metadata": {},
   "outputs": [
    {
     "data": {
      "text/plain": [
       "6"
      ]
     },
     "execution_count": 38,
     "metadata": {},
     "output_type": "execute_result"
    }
   ],
   "source": [
    "# len()\n",
    "len(years)"
   ]
  },
  {
   "cell_type": "markdown",
   "id": "59628adc",
   "metadata": {},
   "source": [
    "Dictionnaires"
   ]
  },
  {
   "cell_type": "code",
   "execution_count": 32,
   "id": "45fd20bd",
   "metadata": {},
   "outputs": [],
   "source": [
    "score = {}"
   ]
  },
  {
   "cell_type": "code",
   "execution_count": 33,
   "id": "1e1cea42",
   "metadata": {},
   "outputs": [],
   "source": [
    "animals = {\n",
    "    \"poules\": 120,\n",
    "    \"chèvres\": 46,\n",
    "    \"chevaux\": 23,\n",
    "    \"vaches\":55\n",
    "}"
   ]
  },
  {
   "cell_type": "code",
   "execution_count": 34,
   "id": "e2da248d",
   "metadata": {},
   "outputs": [
    {
     "name": "stdout",
     "output_type": "stream",
     "text": [
      "{'poules': 120, 'chèvres': 46, 'chevaux': 23, 'vaches': 55}\n"
     ]
    }
   ],
   "source": [
    "print(animals)"
   ]
  },
  {
   "cell_type": "code",
   "execution_count": 35,
   "id": "2dd67236",
   "metadata": {},
   "outputs": [
    {
     "data": {
      "text/plain": [
       "{'poules': 110, 'chèvres': 46, 'chevaux': 23, 'vaches': 55}"
      ]
     },
     "execution_count": 35,
     "metadata": {},
     "output_type": "execute_result"
    }
   ],
   "source": [
    "animals[\"poules\"] = 110\n",
    "animals"
   ]
  },
  {
   "cell_type": "code",
   "execution_count": 36,
   "id": "633b3e78",
   "metadata": {},
   "outputs": [
    {
     "data": {
      "text/plain": [
       "{'poules': 110, 'chèvres': 46, 'chevaux': 23, 'vaches': 55, 'lions': 2}"
      ]
     },
     "execution_count": 36,
     "metadata": {},
     "output_type": "execute_result"
    }
   ],
   "source": [
    "animals[\"lions\"] = 2\n",
    "animals"
   ]
  },
  {
   "cell_type": "code",
   "execution_count": 37,
   "id": "a495631a",
   "metadata": {},
   "outputs": [
    {
     "data": {
      "text/plain": [
       "110"
      ]
     },
     "execution_count": 37,
     "metadata": {},
     "output_type": "execute_result"
    }
   ],
   "source": [
    "animals[\"poules\"]"
   ]
  },
  {
   "cell_type": "markdown",
   "id": "2dc79395",
   "metadata": {},
   "source": [
    "### Conditions IF/ELSE"
   ]
  },
  {
   "cell_type": "code",
   "execution_count": 39,
   "id": "bfcc2161",
   "metadata": {},
   "outputs": [],
   "source": [
    "age = 29"
   ]
  },
  {
   "cell_type": "code",
   "execution_count": 40,
   "id": "8d63f823",
   "metadata": {},
   "outputs": [
    {
     "name": "stdout",
     "output_type": "stream",
     "text": [
      "interdit pour toi\n"
     ]
    }
   ],
   "source": [
    "if age > 35:\n",
    "    print(age)\n",
    "else:\n",
    "    print('interdit pour toi')"
   ]
  },
  {
   "cell_type": "markdown",
   "id": "0a09c1a6",
   "metadata": {},
   "source": [
    "### Boucles FOR"
   ]
  },
  {
   "cell_type": "code",
   "execution_count": 41,
   "id": "e39c2d14",
   "metadata": {},
   "outputs": [],
   "source": [
    "cities = ['Paris', 'Madrid', 'Rome']"
   ]
  },
  {
   "cell_type": "code",
   "execution_count": 42,
   "id": "ef2a8f99",
   "metadata": {},
   "outputs": [
    {
     "name": "stdout",
     "output_type": "stream",
     "text": [
      "Paris\n",
      "Madrid\n",
      "Rome\n"
     ]
    }
   ],
   "source": [
    "for city in cities:\n",
    "    print(city)"
   ]
  },
  {
   "cell_type": "code",
   "execution_count": 50,
   "id": "5f80efcd",
   "metadata": {},
   "outputs": [],
   "source": [
    "fruits = ['Citron', 'Banane', 'Pomme', 'Banane', 'Pomme', 'Banane', 'Pomme' ]"
   ]
  },
  {
   "cell_type": "code",
   "execution_count": 54,
   "id": "962fad91",
   "metadata": {},
   "outputs": [],
   "source": [
    "fruits_counts = {}"
   ]
  },
  {
   "cell_type": "code",
   "execution_count": 55,
   "id": "a422123b",
   "metadata": {},
   "outputs": [],
   "source": [
    "for item in fruits:\n",
    "    if item in fruits_counts:\n",
    "        fruits_counts[item] += 1\n",
    "    else:\n",
    "        fruits_counts[item] = 1"
   ]
  },
  {
   "cell_type": "code",
   "execution_count": 56,
   "id": "21337b55",
   "metadata": {},
   "outputs": [
    {
     "name": "stdout",
     "output_type": "stream",
     "text": [
      "{'Citron': 1, 'Banane': 3, 'Pomme': 3}\n"
     ]
    }
   ],
   "source": [
    "print(fruits_counts)"
   ]
  },
  {
   "cell_type": "markdown",
   "id": "e3516217",
   "metadata": {},
   "source": [
    "### Fonctions Python"
   ]
  },
  {
   "cell_type": "code",
   "execution_count": 58,
   "id": "ee9938f8",
   "metadata": {},
   "outputs": [],
   "source": [
    "def ton_age(age):\n",
    "    if age >= 60:\n",
    "        return('âgé')\n",
    "    else:\n",
    "        return('jeune')"
   ]
  },
  {
   "cell_type": "code",
   "execution_count": 60,
   "id": "210b29e5",
   "metadata": {},
   "outputs": [
    {
     "data": {
      "text/plain": [
       "'jeune'"
      ]
     },
     "execution_count": 60,
     "metadata": {},
     "output_type": "execute_result"
    }
   ],
   "source": [
    "ton_age(25)"
   ]
  },
  {
   "cell_type": "code",
   "execution_count": 61,
   "id": "ccc96cf5",
   "metadata": {},
   "outputs": [
    {
     "data": {
      "text/plain": [
       "'âgé'"
      ]
     },
     "execution_count": 61,
     "metadata": {},
     "output_type": "execute_result"
    }
   ],
   "source": [
    "ton_age(70)"
   ]
  },
  {
   "cell_type": "code",
   "execution_count": 62,
   "id": "4720e00e",
   "metadata": {},
   "outputs": [],
   "source": [
    "def listing(dict):\n",
    "    liste = []\n",
    "    for d in dict:\n",
    "        if dict[d] > 10:\n",
    "            liste.append(d)\n",
    "    return liste"
   ]
  },
  {
   "cell_type": "code",
   "execution_count": 63,
   "id": "7338d2b3",
   "metadata": {},
   "outputs": [],
   "source": [
    "notes = {\n",
    "    \"Tom\": 12,\n",
    "    \"Nina\": 9,\n",
    "    \"Julie\": 18,\n",
    "    \"Bob\": 5\n",
    "}"
   ]
  },
  {
   "cell_type": "code",
   "execution_count": 64,
   "id": "fc2e184e",
   "metadata": {},
   "outputs": [
    {
     "data": {
      "text/plain": [
       "['Tom', 'Julie']"
      ]
     },
     "execution_count": 64,
     "metadata": {},
     "output_type": "execute_result"
    }
   ],
   "source": [
    "listing(notes)"
   ]
  },
  {
   "cell_type": "code",
   "execution_count": null,
   "id": "d2c21ac6",
   "metadata": {},
   "outputs": [],
   "source": []
  }
 ],
 "metadata": {
  "kernelspec": {
   "display_name": "Python 3 (ipykernel)",
   "language": "python",
   "name": "python3"
  },
  "language_info": {
   "codemirror_mode": {
    "name": "ipython",
    "version": 3
   },
   "file_extension": ".py",
   "mimetype": "text/x-python",
   "name": "python",
   "nbconvert_exporter": "python",
   "pygments_lexer": "ipython3",
   "version": "3.9.7"
  }
 },
 "nbformat": 4,
 "nbformat_minor": 5
}
