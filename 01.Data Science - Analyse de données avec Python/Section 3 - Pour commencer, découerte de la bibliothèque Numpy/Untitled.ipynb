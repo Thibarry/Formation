{
 "cells": [
  {
   "cell_type": "markdown",
   "id": "02f0eb20",
   "metadata": {},
   "source": [
    "# Découverte de Numpy"
   ]
  },
  {
   "cell_type": "markdown",
   "id": "7ad2dc19",
   "metadata": {},
   "source": [
    "### Introduction à Numpy"
   ]
  },
  {
   "cell_type": "code",
   "execution_count": 2,
   "id": "ca1a2ee3",
   "metadata": {},
   "outputs": [],
   "source": [
    "list_of_list = [[\"Paris\",75],[\"Lyon\",69]]"
   ]
  },
  {
   "cell_type": "markdown",
   "id": "0836af22",
   "metadata": {},
   "source": [
    "Avantages des listes python:\n",
    "* peuvent contenir différents types des données\n",
    "* peuvent rétrécir et grandir dynamiquement"
   ]
  },
  {
   "cell_type": "code",
   "execution_count": 3,
   "id": "e22430f6",
   "metadata": {},
   "outputs": [],
   "source": [
    "list = [1, \"film\", 3]"
   ]
  },
  {
   "cell_type": "code",
   "execution_count": 4,
   "id": "d0a1959f",
   "metadata": {},
   "outputs": [
    {
     "name": "stdout",
     "output_type": "stream",
     "text": [
      "[1, 'film', 3, 'série']\n"
     ]
    }
   ],
   "source": [
    "list.append(\"série\")\n",
    "print(list)"
   ]
  },
  {
   "cell_type": "markdown",
   "id": "9c2ffe9a",
   "metadata": {},
   "source": [
    "Inconvénients des lieste Python:\n",
    "* consomment beaucoup d'énergie\n",
    "* problèmatiques pour des datasets de moyenne à très grande taille"
   ]
  },
  {
   "cell_type": "markdown",
   "id": "1df35571",
   "metadata": {},
   "source": [
    "### Les tableaux avec Numpy"
   ]
  },
  {
   "cell_type": "markdown",
   "id": "0ef12b5f",
   "metadata": {},
   "source": [
    "ndarray"
   ]
  },
  {
   "cell_type": "code",
   "execution_count": 5,
   "id": "340aa03d",
   "metadata": {},
   "outputs": [],
   "source": [
    "import numpy as np"
   ]
  },
  {
   "cell_type": "code",
   "execution_count": 11,
   "id": "bea51fe3",
   "metadata": {},
   "outputs": [],
   "source": [
    "vector = np.array([3, 4, 17, 65])"
   ]
  },
  {
   "cell_type": "code",
   "execution_count": 12,
   "id": "2549fc25",
   "metadata": {},
   "outputs": [
    {
     "name": "stdout",
     "output_type": "stream",
     "text": [
      "[ 3  4 17 65]\n"
     ]
    }
   ],
   "source": [
    "print(vector)"
   ]
  },
  {
   "cell_type": "code",
   "execution_count": 8,
   "id": "1b698bda",
   "metadata": {},
   "outputs": [],
   "source": [
    "matrix = np.array([[2, 5, 15], [20, 50, 30], [34, 99, 45]])"
   ]
  },
  {
   "cell_type": "code",
   "execution_count": 9,
   "id": "a0dfde5e",
   "metadata": {},
   "outputs": [
    {
     "name": "stdout",
     "output_type": "stream",
     "text": [
      "[[ 2  5 15]\n",
      " [20 50 30]\n",
      " [34 99 45]]\n"
     ]
    }
   ],
   "source": [
    "print(matrix)"
   ]
  },
  {
   "cell_type": "markdown",
   "id": "84fedc05",
   "metadata": {},
   "source": [
    "Exercice 1:"
   ]
  },
  {
   "cell_type": "markdown",
   "id": "dcb59c17",
   "metadata": {},
   "source": [
    "* Créer un vecteur depuis a liste [10, 20, 30]\n",
    "    * Assigner le résultat à la variable vector"
   ]
  },
  {
   "cell_type": "code",
   "execution_count": 13,
   "id": "bbd9a639",
   "metadata": {},
   "outputs": [
    {
     "name": "stdout",
     "output_type": "stream",
     "text": [
      "[10 20 30]\n"
     ]
    }
   ],
   "source": [
    "vector = np.array([10, 20, 30])\n",
    "print(vector)"
   ]
  },
  {
   "cell_type": "markdown",
   "id": "0caadddb",
   "metadata": {},
   "source": [
    "* Créer une matrice depuis la liste des listes suivantes: [[5,10,15],[20,25,30],[35,40,45]]\n",
    "    * Assigner le résultat à la variable matrix"
   ]
  },
  {
   "cell_type": "code",
   "execution_count": 14,
   "id": "e6ee5cd8",
   "metadata": {},
   "outputs": [
    {
     "name": "stdout",
     "output_type": "stream",
     "text": [
      "[[ 2  5 15]\n",
      " [20 50 30]\n",
      " [34 99 45]]\n"
     ]
    }
   ],
   "source": [
    "matrix = np.array([[2, 5, 15], [20, 50, 30], [34, 99, 45]])\n",
    "print(matrix)"
   ]
  },
  {
   "cell_type": "markdown",
   "id": "5a049cee",
   "metadata": {},
   "source": [
    "### Taille d'un tableau\n"
   ]
  },
  {
   "cell_type": "code",
   "execution_count": 15,
   "id": "b0423b38",
   "metadata": {},
   "outputs": [
    {
     "data": {
      "text/plain": [
       "array(['1986', 'Western Pacific', 'Viet Nam', 'Wine', '0'], dtype='<U15')"
      ]
     },
     "execution_count": 15,
     "metadata": {},
     "output_type": "execute_result"
    }
   ],
   "source": [
    "np.array(['1986', 'Western Pacific', 'Viet Nam', 'Wine', '0'])"
   ]
  },
  {
   "cell_type": "code",
   "execution_count": 17,
   "id": "d2079b16",
   "metadata": {},
   "outputs": [
    {
     "data": {
      "text/plain": [
       "array([['1986', 'Western Pacific', 'Viet Nam', 'Wine', '0'],\n",
       "       ['1986', 'Americas', 'Uruguay', 'Other', '0.5'],\n",
       "       ['1985', 'Africa', \"Cte d'Ivoire\", 'Wine', '1.62']], dtype='<U15')"
      ]
     },
     "execution_count": 17,
     "metadata": {},
     "output_type": "execute_result"
    }
   ],
   "source": [
    "np.array([['1986', 'Western Pacific', 'Viet Nam', 'Wine', '0'], ['1986', 'Americas', 'Uruguay', 'Other', '0.5'], ['1985', 'Africa', \"Cte d'Ivoire\", 'Wine', '1.62']])"
   ]
  },
  {
   "cell_type": "markdown",
   "id": "9e631dc4",
   "metadata": {},
   "source": [
    "ndarray.shape"
   ]
  },
  {
   "cell_type": "code",
   "execution_count": 19,
   "id": "3255958a",
   "metadata": {},
   "outputs": [
    {
     "name": "stdout",
     "output_type": "stream",
     "text": [
      "(4,)\n"
     ]
    }
   ],
   "source": [
    "vector = np.array([1, 2, 3, 4])\n",
    "print(vector.shape)"
   ]
  },
  {
   "cell_type": "code",
   "execution_count": 20,
   "id": "33d9ac53",
   "metadata": {},
   "outputs": [
    {
     "name": "stdout",
     "output_type": "stream",
     "text": [
      "(2, 3)\n"
     ]
    }
   ],
   "source": [
    "matrix = np.array([[5, 10, 15], [20, 25, 30]])\n",
    "print(matrix.shape)"
   ]
  },
  {
   "cell_type": "markdown",
   "id": "06b9f085",
   "metadata": {},
   "source": [
    "Exercice 2:"
   ]
  },
  {
   "cell_type": "markdown",
   "id": "b16594da",
   "metadata": {},
   "source": [
    "* Créer un vecteur depuis la liste [10, 20, 30]\n",
    "    * Assigner le résultat à la variable vector"
   ]
  },
  {
   "cell_type": "code",
   "execution_count": 23,
   "id": "e9ec68b7",
   "metadata": {},
   "outputs": [
    {
     "name": "stdout",
     "output_type": "stream",
     "text": [
      "[10 20 30]\n"
     ]
    }
   ],
   "source": [
    "vector = np.array([10, 20, 30])\n",
    "print(vector)"
   ]
  },
  {
   "cell_type": "markdown",
   "id": "aa3aed45",
   "metadata": {},
   "source": [
    "* Créer une matrice depuis la liste des listes suivantes: [[5, 10, 15], [20, 25, 30], [35, 40, 45]]\n",
    "    * Assigner le résultat à la variable matrix"
   ]
  },
  {
   "cell_type": "code",
   "execution_count": 24,
   "id": "becbce64",
   "metadata": {},
   "outputs": [
    {
     "name": "stdout",
     "output_type": "stream",
     "text": [
      "[[ 5 10 15]\n",
      " [20 25 30]\n",
      " [35 40 45]]\n"
     ]
    }
   ],
   "source": [
    "matrix = np.array([[5, 10, 15], [20, 25, 30], [35, 40, 45]])\n",
    "print(matrix)"
   ]
  },
  {
   "cell_type": "markdown",
   "id": "20e6bf8e",
   "metadata": {},
   "source": [
    "* Assigner la taille du tableau vector à la variable vector_shape\n",
    "* Assigner la taille du tableau matrix à la variable matrix_shape\n",
    "* Affichier les résultats"
   ]
  },
  {
   "cell_type": "code",
   "execution_count": 26,
   "id": "df524808",
   "metadata": {},
   "outputs": [
    {
     "name": "stdout",
     "output_type": "stream",
     "text": [
      "(4,)\n",
      "(3, 3)\n"
     ]
    }
   ],
   "source": [
    "vector_shape = vactor.shape\n",
    "matrix_shape = matrix.shape\n",
    "print(vector_shape)\n",
    "print(matrix_shape)"
   ]
  },
  {
   "cell_type": "markdown",
   "id": "c644918b",
   "metadata": {},
   "source": [
    "### Lire un dataset avec Numpy"
   ]
  },
  {
   "cell_type": "code",
   "execution_count": 27,
   "id": "ce65f4b9",
   "metadata": {},
   "outputs": [],
   "source": [
    "# Fonction numpy pour lire un dataset: numpy.genfromtxt()"
   ]
  },
  {
   "cell_type": "code",
   "execution_count": 36,
   "id": "5c214af7",
   "metadata": {},
   "outputs": [],
   "source": [
    "import numpy as np\n",
    "\n",
    "world_alcohol = np.genfromtxt(\"C:/Users/Thierno Barry/Documents/Python Scripts/01.Data Science - Analyse de données avec Python/00. Data/world_alcohol.csv\", delimiter=\",\")"
   ]
  },
  {
   "cell_type": "code",
   "execution_count": 40,
   "id": "32f84642",
   "metadata": {},
   "outputs": [
    {
     "name": "stdout",
     "output_type": "stream",
     "text": [
      "<class 'numpy.ndarray'>\n"
     ]
    }
   ],
   "source": [
    "print(type(world_alcohol))"
   ]
  },
  {
   "cell_type": "code",
   "execution_count": 35,
   "id": "ec391f5b",
   "metadata": {},
   "outputs": [
    {
     "name": "stdout",
     "output_type": "stream",
     "text": [
      "[[      nan       nan       nan       nan       nan]\n",
      " [1.986e+03       nan       nan       nan 0.000e+00]\n",
      " [1.986e+03       nan       nan       nan 5.000e-01]\n",
      " ...\n",
      " [1.986e+03       nan       nan       nan 2.540e+00]\n",
      " [1.987e+03       nan       nan       nan 0.000e+00]\n",
      " [1.986e+03       nan       nan       nan 5.150e+00]]\n"
     ]
    }
   ],
   "source": [
    "print(world_alcohol)"
   ]
  },
  {
   "cell_type": "markdown",
   "id": "271ff510",
   "metadata": {},
   "source": [
    "### Les types de données avec Numpy"
   ]
  },
  {
   "cell_type": "code",
   "execution_count": 38,
   "id": "102ff3b9",
   "metadata": {},
   "outputs": [],
   "source": [
    "# bool --> True ou False\n",
    "# int --> integer\n",
    "# float\n",
    "# string"
   ]
  },
  {
   "cell_type": "code",
   "execution_count": 39,
   "id": "6883dea1",
   "metadata": {},
   "outputs": [
    {
     "data": {
      "text/plain": [
       "dtype('int32')"
      ]
     },
     "execution_count": 39,
     "metadata": {},
     "output_type": "execute_result"
    }
   ],
   "source": [
    "numbers = np.array([1, 2, 3, 4])\n",
    "numbers.dtype"
   ]
  },
  {
   "cell_type": "markdown",
   "id": "625f8319",
   "metadata": {},
   "source": [
    "Exercice 3:"
   ]
  },
  {
   "cell_type": "markdown",
   "id": "68b35b3a",
   "metadata": {},
   "source": [
    "* Assigner le type de données de world_alcohol à la variable world_alcohol_dtype\n",
    "* Afficher world_alcohol_dtype"
   ]
  },
  {
   "cell_type": "code",
   "execution_count": 42,
   "id": "dca5b233",
   "metadata": {},
   "outputs": [
    {
     "name": "stdout",
     "output_type": "stream",
     "text": [
      "float64\n"
     ]
    }
   ],
   "source": [
    "world_alcohol_dtype = world_alcohol.dtype\n",
    "print(world_alcohol_dtype)"
   ]
  },
  {
   "cell_type": "markdown",
   "id": "78b8af4d",
   "metadata": {},
   "source": [
    "### Afficher les données correctement"
   ]
  },
  {
   "cell_type": "code",
   "execution_count": 47,
   "id": "c6efbe59",
   "metadata": {},
   "outputs": [
    {
     "data": {
      "text/plain": [
       "array([['1986', 'Western Pacific', 'Viet Nam', 'Wine', '0'],\n",
       "       ['1986', 'Americas', 'Uruguay', 'Other', '0.5'],\n",
       "       ['1985', 'Africa', \"Cte d'Ivoire\", 'Wine', '1.62'],\n",
       "       ...,\n",
       "       ['1986', 'Europe', 'Switzerland', 'Spirits', '2.54'],\n",
       "       ['1987', 'Western Pacific', 'Papua New Guinea', 'Other', '0'],\n",
       "       ['1986', 'Africa', 'Swaziland', 'Other', '5.15']], dtype='<U75')"
      ]
     },
     "execution_count": 47,
     "metadata": {},
     "output_type": "execute_result"
    }
   ],
   "source": [
    "fichier_in = \"C:/Users/Thierno Barry/Documents/Python Scripts/01.Data Science - Analyse de données avec Python/00. Data/world_alcohol.csv\"\n",
    "world_alcohol = np.genfromtxt(fichier_in, delimiter=\",\", dtype=\"U75\", skip_header=1)\n",
    "world_alcohol"
   ]
  },
  {
   "cell_type": "markdown",
   "id": "63ae9fb5",
   "metadata": {},
   "source": [
    "### Extraire une valeur depuis un tableau Numpy"
   ]
  },
  {
   "cell_type": "code",
   "execution_count": 49,
   "id": "55a66666",
   "metadata": {},
   "outputs": [
    {
     "name": "stdout",
     "output_type": "stream",
     "text": [
      "5\n"
     ]
    }
   ],
   "source": [
    "vector = np.array([5, 10, 15, 20])\n",
    "print(vector[0])"
   ]
  },
  {
   "cell_type": "code",
   "execution_count": 50,
   "id": "5bad1602",
   "metadata": {},
   "outputs": [],
   "source": [
    "list_of_lists = [[5, 10, 15], [20, 25, 30]]"
   ]
  },
  {
   "cell_type": "code",
   "execution_count": 51,
   "id": "4b024e83",
   "metadata": {},
   "outputs": [],
   "source": [
    "first_row = list_of_lists[0]"
   ]
  },
  {
   "cell_type": "code",
   "execution_count": 52,
   "id": "e3006a31",
   "metadata": {},
   "outputs": [
    {
     "data": {
      "text/plain": [
       "15"
      ]
     },
     "execution_count": 52,
     "metadata": {},
     "output_type": "execute_result"
    }
   ],
   "source": [
    "first_row[2]"
   ]
  },
  {
   "cell_type": "code",
   "execution_count": 53,
   "id": "b4ce22ca",
   "metadata": {},
   "outputs": [
    {
     "data": {
      "text/plain": [
       "15"
      ]
     },
     "execution_count": 53,
     "metadata": {},
     "output_type": "execute_result"
    }
   ],
   "source": [
    "list_of_lists[0][2]"
   ]
  },
  {
   "cell_type": "code",
   "execution_count": 56,
   "id": "d5b0b05b",
   "metadata": {},
   "outputs": [
    {
     "data": {
      "text/plain": [
       "30"
      ]
     },
     "execution_count": 56,
     "metadata": {},
     "output_type": "execute_result"
    }
   ],
   "source": [
    "matrix = np.array([[5, 10, 15], [20, 25, 30]])\n",
    "matrix[1,2]"
   ]
  },
  {
   "cell_type": "markdown",
   "id": "81293fab",
   "metadata": {},
   "source": [
    "Exercice 4:"
   ]
  },
  {
   "cell_type": "markdown",
   "id": "6c75b9a7",
   "metadata": {},
   "source": [
    "* Assigner le nombre de litres de vin bu par un Ivoirien en 1985 à la variable ivoire_1985. Cela correspond à la donnée de la 3e ligne.\n",
    "* Assigner le nom du pays de la 2e ligne à la variable second_country."
   ]
  },
  {
   "cell_type": "code",
   "execution_count": 59,
   "id": "6fdd4505",
   "metadata": {},
   "outputs": [
    {
     "name": "stdout",
     "output_type": "stream",
     "text": [
      "1.62\n"
     ]
    }
   ],
   "source": [
    "ivoire_1985 = world_alcohol[2,4]\n",
    "print(ivoire_1985)"
   ]
  },
  {
   "cell_type": "code",
   "execution_count": 58,
   "id": "26540050",
   "metadata": {},
   "outputs": [
    {
     "name": "stdout",
     "output_type": "stream",
     "text": [
      "Uruguay\n"
     ]
    }
   ],
   "source": [
    "second_country = world_alcohol[1,2]\n",
    "print(second_country)"
   ]
  },
  {
   "cell_type": "markdown",
   "id": "f3960c2d",
   "metadata": {},
   "source": [
    "### Extraire un vecteur de valeurs depuis un tableau Numpy"
   ]
  },
  {
   "cell_type": "code",
   "execution_count": 60,
   "id": "c9a504ee",
   "metadata": {},
   "outputs": [],
   "source": [
    "vector = np.array([5, 10, 15, 20])"
   ]
  },
  {
   "cell_type": "code",
   "execution_count": 61,
   "id": "33c01381",
   "metadata": {},
   "outputs": [
    {
     "data": {
      "text/plain": [
       "array([ 5, 10, 15])"
      ]
     },
     "execution_count": 61,
     "metadata": {},
     "output_type": "execute_result"
    }
   ],
   "source": [
    "vector[0:3]"
   ]
  },
  {
   "cell_type": "code",
   "execution_count": 63,
   "id": "2369a9b5",
   "metadata": {},
   "outputs": [
    {
     "data": {
      "text/plain": [
       "array([[ 5, 10, 15],\n",
       "       [20, 25, 30],\n",
       "       [35, 40, 45]])"
      ]
     },
     "execution_count": 63,
     "metadata": {},
     "output_type": "execute_result"
    }
   ],
   "source": [
    "matrix = np.array([[5, 10, 15], [20, 25, 30], [35, 40, 45]])\n",
    "matrix"
   ]
  },
  {
   "cell_type": "code",
   "execution_count": 64,
   "id": "47000b36",
   "metadata": {},
   "outputs": [
    {
     "data": {
      "text/plain": [
       "array([10, 25, 40])"
      ]
     },
     "execution_count": 64,
     "metadata": {},
     "output_type": "execute_result"
    }
   ],
   "source": [
    "matrix[:,1]"
   ]
  },
  {
   "cell_type": "code",
   "execution_count": 65,
   "id": "189b4689",
   "metadata": {},
   "outputs": [
    {
     "data": {
      "text/plain": [
       "array([35, 40, 45])"
      ]
     },
     "execution_count": 65,
     "metadata": {},
     "output_type": "execute_result"
    }
   ],
   "source": [
    "matrix[2,:]"
   ]
  },
  {
   "cell_type": "code",
   "execution_count": 66,
   "id": "a8737f53",
   "metadata": {},
   "outputs": [
    {
     "data": {
      "text/plain": [
       "array([25, 40])"
      ]
     },
     "execution_count": 66,
     "metadata": {},
     "output_type": "execute_result"
    }
   ],
   "source": [
    "matrix[1:3,1]"
   ]
  },
  {
   "cell_type": "markdown",
   "id": "37336133",
   "metadata": {},
   "source": [
    "Exercice 5:"
   ]
  },
  {
   "cell_type": "markdown",
   "id": "bb5712a6",
   "metadata": {},
   "source": [
    "* Assigner toute la 3e colonne de world_alcohol à la variable countries.\n",
    "* Assigner l'ensemble de la 5e colonne de world_alcohol à la variable alcohol_consumption."
   ]
  },
  {
   "cell_type": "code",
   "execution_count": 67,
   "id": "8f074cb5",
   "metadata": {},
   "outputs": [
    {
     "name": "stdout",
     "output_type": "stream",
     "text": [
      "['Viet Nam' 'Uruguay' \"Cte d'Ivoire\" ... 'Switzerland' 'Papua New Guinea'\n",
      " 'Swaziland']\n"
     ]
    }
   ],
   "source": [
    "countries = world_alcohol[:,2]\n",
    "print(countries)"
   ]
  },
  {
   "cell_type": "code",
   "execution_count": 68,
   "id": "e0548d92",
   "metadata": {},
   "outputs": [
    {
     "name": "stdout",
     "output_type": "stream",
     "text": [
      "['0' '0.5' '1.62' ... '2.54' '0' '5.15']\n"
     ]
    }
   ],
   "source": [
    "alcohol_consumption = world_alcohol[:,4]\n",
    "print(alcohol_consumption)"
   ]
  },
  {
   "cell_type": "markdown",
   "id": "031a157c",
   "metadata": {},
   "source": [
    "### Extraire un tableau de valeurs depuis un tableau Numpy"
   ]
  },
  {
   "cell_type": "code",
   "execution_count": 69,
   "id": "10c9eb72",
   "metadata": {},
   "outputs": [
    {
     "data": {
      "text/plain": [
       "array([[ 5, 10, 15],\n",
       "       [20, 25, 30],\n",
       "       [35, 40, 45]])"
      ]
     },
     "execution_count": 69,
     "metadata": {},
     "output_type": "execute_result"
    }
   ],
   "source": [
    "matrix"
   ]
  },
  {
   "cell_type": "code",
   "execution_count": 70,
   "id": "01cb5036",
   "metadata": {},
   "outputs": [
    {
     "data": {
      "text/plain": [
       "array([[ 5, 10],\n",
       "       [20, 25],\n",
       "       [35, 40]])"
      ]
     },
     "execution_count": 70,
     "metadata": {},
     "output_type": "execute_result"
    }
   ],
   "source": [
    "matrix[:,0:2]"
   ]
  },
  {
   "cell_type": "code",
   "execution_count": 71,
   "id": "a12192b0",
   "metadata": {},
   "outputs": [
    {
     "data": {
      "text/plain": [
       "array([[20, 25, 30],\n",
       "       [35, 40, 45]])"
      ]
     },
     "execution_count": 71,
     "metadata": {},
     "output_type": "execute_result"
    }
   ],
   "source": [
    "matrix[1:3,:]"
   ]
  },
  {
   "cell_type": "code",
   "execution_count": 72,
   "id": "bbda19b7",
   "metadata": {},
   "outputs": [
    {
     "data": {
      "text/plain": [
       "array([[20, 25],\n",
       "       [35, 40]])"
      ]
     },
     "execution_count": 72,
     "metadata": {},
     "output_type": "execute_result"
    }
   ],
   "source": [
    "matrix[1:3,0:2]"
   ]
  },
  {
   "cell_type": "markdown",
   "id": "192a5d55",
   "metadata": {},
   "source": [
    "Exercice 6:"
   ]
  },
  {
   "cell_type": "markdown",
   "id": "551ddc19",
   "metadata": {},
   "source": [
    "* Assigner toutes les lignes des 2 premières colonnes de world_alcohol à la variable first_two_colomns.\n",
    "* Assigner les 10 premières lignes de la première colonne de world_alcohol à la variable first_ten_years.\n",
    "* Assigner les 10 premières lignes de toutes les colonnes de world_alcohol à la variable first_ten_rows.\n",
    "* Assigner les 20 premières lignes des colonnes d'indice des colonnes d'indice 1 et 2 de world_alcohol à la variable first_twenty_regions."
   ]
  },
  {
   "cell_type": "code",
   "execution_count": 77,
   "id": "ffc6ef75",
   "metadata": {},
   "outputs": [
    {
     "name": "stdout",
     "output_type": "stream",
     "text": [
      "[['1986' 'Western Pacific']\n",
      " ['1986' 'Americas']\n",
      " ['1985' 'Africa']\n",
      " ...\n",
      " ['1986' 'Europe']\n",
      " ['1987' 'Western Pacific']\n",
      " ['1986' 'Africa']]\n"
     ]
    }
   ],
   "source": [
    "first_two_colomns = world_alcohol[:,0:2]\n",
    "print(first_two_colomns)"
   ]
  },
  {
   "cell_type": "code",
   "execution_count": 80,
   "id": "ddb07bd5",
   "metadata": {},
   "outputs": [
    {
     "name": "stdout",
     "output_type": "stream",
     "text": [
      "[['1986']\n",
      " ['1986']\n",
      " ['1985']\n",
      " ['1986']\n",
      " ['1987']\n",
      " ['1987']\n",
      " ['1987']\n",
      " ['1985']\n",
      " ['1986']\n",
      " ['1984']]\n"
     ]
    }
   ],
   "source": [
    "first_ten_years = world_alcohol[0:10,0:1]\n",
    "print(first_ten_years)"
   ]
  },
  {
   "cell_type": "code",
   "execution_count": 81,
   "id": "d20b4261",
   "metadata": {},
   "outputs": [
    {
     "name": "stdout",
     "output_type": "stream",
     "text": [
      "[['1986' 'Western Pacific' 'Viet Nam' 'Wine' '0']\n",
      " ['1986' 'Americas' 'Uruguay' 'Other' '0.5']\n",
      " ['1985' 'Africa' \"Cte d'Ivoire\" 'Wine' '1.62']\n",
      " ['1986' 'Americas' 'Colombia' 'Beer' '4.27']\n",
      " ['1987' 'Americas' 'Saint Kitts and Nevis' 'Beer' '1.98']\n",
      " ['1987' 'Americas' 'Guatemala' 'Other' '0']\n",
      " ['1987' 'Africa' 'Mauritius' 'Wine' '0.13']\n",
      " ['1985' 'Africa' 'Angola' 'Spirits' '0.39']\n",
      " ['1986' 'Americas' 'Antigua and Barbuda' 'Spirits' '1.55']\n",
      " ['1984' 'Africa' 'Nigeria' 'Other' '6.1']]\n"
     ]
    }
   ],
   "source": [
    "first_ten_rows = world_alcohol[0:10,:]\n",
    "print(first_ten_rows)"
   ]
  },
  {
   "cell_type": "code",
   "execution_count": 82,
   "id": "5507c409",
   "metadata": {},
   "outputs": [
    {
     "name": "stdout",
     "output_type": "stream",
     "text": [
      "[['Western Pacific' 'Viet Nam']\n",
      " ['Americas' 'Uruguay']\n",
      " ['Africa' \"Cte d'Ivoire\"]\n",
      " ['Americas' 'Colombia']\n",
      " ['Americas' 'Saint Kitts and Nevis']\n",
      " ['Americas' 'Guatemala']\n",
      " ['Africa' 'Mauritius']\n",
      " ['Africa' 'Angola']\n",
      " ['Americas' 'Antigua and Barbuda']\n",
      " ['Africa' 'Nigeria']\n",
      " ['Africa' 'Botswana']\n",
      " ['Americas' 'Guatemala']\n",
      " ['Western Pacific' \"Lao People's Democratic Republic\"]\n",
      " ['Eastern Mediterranean' 'Afghanistan']\n",
      " ['Western Pacific' 'Viet Nam']\n",
      " ['Africa' 'Guinea-Bissau']\n",
      " ['Americas' 'Costa Rica']\n",
      " ['Africa' 'Seychelles']\n",
      " ['Europe' 'Norway']\n",
      " ['Africa' 'Kenya']]\n"
     ]
    }
   ],
   "source": [
    "first_twenty_regions = world_alcohol[0:20,1:3]\n",
    "print(first_twenty_regions)"
   ]
  },
  {
   "cell_type": "code",
   "execution_count": null,
   "id": "e8cd9766",
   "metadata": {},
   "outputs": [],
   "source": []
  }
 ],
 "metadata": {
  "kernelspec": {
   "display_name": "Python 3 (ipykernel)",
   "language": "python",
   "name": "python3"
  },
  "language_info": {
   "codemirror_mode": {
    "name": "ipython",
    "version": 3
   },
   "file_extension": ".py",
   "mimetype": "text/x-python",
   "name": "python",
   "nbconvert_exporter": "python",
   "pygments_lexer": "ipython3",
   "version": "3.9.7"
  }
 },
 "nbformat": 4,
 "nbformat_minor": 5
}
