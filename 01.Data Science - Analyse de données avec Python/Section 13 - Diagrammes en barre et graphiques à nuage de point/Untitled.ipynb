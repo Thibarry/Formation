{
 "cells": [
  {
   "cell_type": "markdown",
   "id": "ddcf94db",
   "metadata": {},
   "source": [
    "# Diagrammes en barre et graphiques à nuage de point"
   ]
  },
  {
   "cell_type": "markdown",
   "id": "cb7c49c9",
   "metadata": {},
   "source": [
    "## Introduction au dataset"
   ]
  },
  {
   "cell_type": "markdown",
   "id": "5d12b625",
   "metadata": {},
   "source": [
    "#### Mission:\n",
    "- Lire 'fandango_scores.csv' dans un dataframe reviews.\n",
    "- Sélectionner les colonnes suivantes et assigner les au dataframe norm_reviews:\n",
    ">- 'FILM'\n",
    ">- 'RT_user_norm'\n",
    ">- 'Metacritic_user_nom'\n",
    ">- 'IMDB_norm'\n",
    ">- 'Fandango_Ratingvalue'\n",
    ">- 'Fandango_Stars'\n",
    "- Afficher les premières lignes de norm_reviews."
   ]
  },
  {
   "cell_type": "code",
   "execution_count": 1,
   "id": "448f929d",
   "metadata": {},
   "outputs": [
    {
     "name": "stdout",
     "output_type": "stream",
     "text": [
      "                             FILM  RT_user_norm  Metacritic_user_nom  \\\n",
      "0  Avengers: Age of Ultron (2015)           4.3                 3.55   \n",
      "1               Cinderella (2015)           4.0                 3.75   \n",
      "2                  Ant-Man (2015)           4.5                 4.05   \n",
      "\n",
      "   IMDB_norm  Fandango_Ratingvalue  Fandango_Stars  \n",
      "0       3.90                   4.5             5.0  \n",
      "1       3.55                   4.5             5.0  \n",
      "2       3.90                   4.5             5.0  \n"
     ]
    }
   ],
   "source": [
    "import pandas as pd\n",
    "\n",
    "path     = \"C:/Users/Thierno Barry/Documents/Python Scripts/01.Data Science - Analyse de données avec Python/00. Data/\"\n",
    "fichier  = \"fandango_scores.csv\"\n",
    "reviews = pd.read_csv(path+fichier)\n",
    "cols = ['FILM', 'RT_user_norm', 'Metacritic_user_nom', 'IMDB_norm', 'Fandango_Ratingvalue', 'Fandango_Stars']\n",
    "norm_reviews = reviews[cols]\n",
    "print(norm_reviews[:3])"
   ]
  },
  {
   "cell_type": "markdown",
   "id": "9cf4574e",
   "metadata": {},
   "source": [
    "## Diagrammes en barre"
   ]
  },
  {
   "cell_type": "code",
   "execution_count": 2,
   "id": "b20389fc",
   "metadata": {},
   "outputs": [],
   "source": [
    "# plt.bar() soit Axes.bar()"
   ]
  },
  {
   "cell_type": "code",
   "execution_count": 3,
   "id": "35679e59",
   "metadata": {},
   "outputs": [],
   "source": [
    "import matplotlib.pyplot as plt"
   ]
  },
  {
   "cell_type": "code",
   "execution_count": 4,
   "id": "9398650d",
   "metadata": {},
   "outputs": [],
   "source": [
    "#fig, ax = plt.subplots()"
   ]
  },
  {
   "cell_type": "code",
   "execution_count": 5,
   "id": "52a920fd",
   "metadata": {},
   "outputs": [],
   "source": [
    "# Axes.bar(left, height)"
   ]
  },
  {
   "cell_type": "code",
   "execution_count": 6,
   "id": "b2acd765",
   "metadata": {},
   "outputs": [],
   "source": [
    "# np.arange()"
   ]
  },
  {
   "cell_type": "code",
   "execution_count": 7,
   "id": "9c8a7b88",
   "metadata": {},
   "outputs": [],
   "source": [
    "# Positions du côté gauche de chaque barre --> [1, 2, 3, 4, 5]\n",
    "from numpy import arange\n",
    "bar_positions = arange(5) + 1"
   ]
  },
  {
   "cell_type": "code",
   "execution_count": 10,
   "id": "5b0c43e7",
   "metadata": {},
   "outputs": [],
   "source": [
    "# Hauteur des barres. On choisit la moyenne des notes du premier film de notre dataset\n",
    "num_cols = ['RT_user_norm', 'Metacritic_user_nom', 'IMDB_norm', 'Fandango_Ratingvalue', 'Fandango_Stars']\n",
    "bar_heights = norm_reviews[num_cols].iloc[0].values"
   ]
  },
  {
   "cell_type": "code",
   "execution_count": 16,
   "id": "60495e0f",
   "metadata": {},
   "outputs": [
    {
     "data": {
      "image/png": "[encoded data removed]",
      "text/plain": [
       "<Figure size 432x288 with 1 Axes>"
      ]
     },
     "metadata": {
      "needs_background": "light"
     },
     "output_type": "display_data"
    }
   ],
   "source": [
    "fig, ax = plt.subplots()\n",
    "ax.bar(bar_positions, bar_height)\n",
    "plt.show()"
   ]
  },
  {
   "cell_type": "markdown",
   "id": "7b29b056",
   "metadata": {},
   "source": [
    "#### Mission:\n",
    "- Créer un sous-graphique et assigner l'objet Figure à la variable fig et l'objet Axes à la variable ax.\n",
    "- Générer un diagramme en barre avec:\n",
    ">- left définie par bar_positions qui doit prendre les valeurs 1,2,3,4 et 5\n",
    ">- height définie par bar_heights qui doit prendre les 5 colonnes qui nous intéressent\n",
    ">- width fixé à 0.5\n",
    "- Utiliser plt.show() pour afficher le diagramme en barre."
   ]
  },
  {
   "cell_type": "code",
   "execution_count": 17,
   "id": "c64d4bbc",
   "metadata": {},
   "outputs": [
    {
     "data": {
      "image/png": "[encoded data removed]",
      "text/plain": [
       "<Figure size 432x288 with 1 Axes>"
      ]
     },
     "metadata": {
      "needs_background": "light"
     },
     "output_type": "display_data"
    }
   ],
   "source": [
    "import matplotlib.pyplot as plt\n",
    "from numpy import arange\n",
    "\n",
    "num_cols = ['RT_user_norm', 'Metacritic_user_nom', 'IMDB_norm', 'Fandango_Ratingvalue', 'Fandango_Stars']\n",
    "\n",
    "bar_heights = norm_reviews[num_cols].iloc[0].values\n",
    "bar_positions = arange(5) + 1\n",
    "\n",
    "fig, ax = plt.subplots()\n",
    "ax.bar(bar_positions, bar_heights, 0.5)\n",
    "plt.show()"
   ]
  },
  {
   "cell_type": "markdown",
   "id": "ef3a40cb",
   "metadata": {},
   "source": [
    "## Aligner l'intitulé et le trait sur l'axe x"
   ]
  },
  {
   "cell_type": "code",
   "execution_count": 18,
   "id": "3755ec96",
   "metadata": {},
   "outputs": [],
   "source": [
    "# Axes.set.xticks()"
   ]
  },
  {
   "cell_type": "code",
   "execution_count": 19,
   "id": "7571360d",
   "metadata": {},
   "outputs": [
    {
     "data": {
      "text/plain": [
       "[<matplotlib.axis.XTick at 0x29310731370>,\n",
       " <matplotlib.axis.XTick at 0x29310731340>,\n",
       " <matplotlib.axis.XTick at 0x293107025e0>,\n",
       " <matplotlib.axis.XTick at 0x2931173c310>,\n",
       " <matplotlib.axis.XTick at 0x2931173cac0>]"
      ]
     },
     "execution_count": 19,
     "metadata": {},
     "output_type": "execute_result"
    }
   ],
   "source": [
    "tick_positions = range(1,6)\n",
    "ax.set_xticks(tick_positions)"
   ]
  },
  {
   "cell_type": "code",
   "execution_count": 20,
   "id": "f8ba754a",
   "metadata": {},
   "outputs": [],
   "source": [
    "# Axes.set_xticklabels()"
   ]
  },
  {
   "cell_type": "code",
   "execution_count": 23,
   "id": "a5354782",
   "metadata": {},
   "outputs": [
    {
     "data": {
      "text/plain": [
       "[Text(1, 0, 'RT_user_norm'),\n",
       " Text(2, 0, 'Metacritic_user_nom'),\n",
       " Text(3, 0, 'IMDB_norm'),\n",
       " Text(4, 0, 'Fandango_Ratingvalue'),\n",
       " Text(5, 0, 'Fandango_Stars')]"
      ]
     },
     "execution_count": 23,
     "metadata": {},
     "output_type": "execute_result"
    }
   ],
   "source": [
    "num_cols = ['RT_user_norm', 'Metacritic_user_nom', 'IMDB_norm', 'Fandango_Ratingvalue', 'Fandango_Stars']\n",
    "ax.set_xticklabels(num_cols, rotation=90)"
   ]
  },
  {
   "cell_type": "markdown",
   "id": "7c8fe042",
   "metadata": {},
   "source": [
    "#### Mission:\n",
    "- Créer un sous-graphique et assigner l'objet Figure à la variable fig et l'objet Axes à la variable ax.\n",
    "- Générer un diagramme en barre avec:\n",
    ">- left définie par bar_positions qui doit prendre les valeurs 1, 2, 3, 4 et 5\n",
    ">- height définie par bar_heights qui doit prendre les 5 colonnes qui nous intéressent\n",
    ">- width fixé à 0.5\n",
    "- Placer les 5 traits correspondant aux barres.\n",
    "- Placer les intitulés de num_cols et faire une rotation de 90 degrés.\n",
    "- Définir l'axe x par 'Sources de notation'.\n",
    "- Définir l'axe y par 'Note moyenne'.\n",
    "- Définir le titre par 'Moyenne des notes utilisateurs pour le film Avengers: Age of Ultron (2015'.\n",
    "- Utiliser plt.show() pour afficher le diagramme."
   ]
  },
  {
   "cell_type": "code",
   "execution_count": 24,
   "id": "4e85be02",
   "metadata": {},
   "outputs": [
    {
     "data": {
      "image/png": "[encoded data removed]",
      "text/plain": [
       "<Figure size 432x288 with 1 Axes>"
      ]
     },
     "metadata": {
      "needs_background": "light"
     },
     "output_type": "display_data"
    }
   ],
   "source": [
    "num_cols = ['RT_user_norm', 'Metacritic_user_nom', 'IMDB_norm', 'Fandango_Ratingvalue', 'Fandango_Stars']\n",
    "bar_heights = norm_reviews[num_cols].iloc[0].values\n",
    "bar_positions = arange(5) + 1\n",
    "tick_positions = range(1,6)\n",
    "\n",
    "fig, ax = plt.subplots()\n",
    "ax.bar(bar_positions, bar_heights, 0.5)\n",
    "ax.set_xticks(tick_positions)\n",
    "ax.set_xticklabels(num_cols,rotation=90)\n",
    "\n",
    "ax.set_xlabel('Sources de notation')\n",
    "ax.set_ylabel('Note moyenne')\n",
    "ax.set_title('Moyenne des notes utilisateurs pour le film Avengers: Age of Ultron (2015)')\n",
    "\n",
    "plt.show()"
   ]
  },
  {
   "cell_type": "markdown",
   "id": "544562a2",
   "metadata": {},
   "source": [
    "## Diagramme en barres horizontales"
   ]
  },
  {
   "cell_type": "code",
   "execution_count": 26,
   "id": "3df21311",
   "metadata": {},
   "outputs": [],
   "source": [
    "# Axes.barh(bottom, width)"
   ]
  },
  {
   "cell_type": "code",
   "execution_count": 33,
   "id": "32b29007",
   "metadata": {},
   "outputs": [
    {
     "data": {
      "text/plain": [
       "<BarContainer object of 5 artists>"
      ]
     },
     "execution_count": 33,
     "metadata": {},
     "output_type": "execute_result"
    }
   ],
   "source": [
    "num_cols = ['RT_user_norm', 'Metacritic_user_nom', 'IMDB_norm', 'Fandango_Ratingvalue', 'Fandango_Stars']\n",
    "bar_widths = norm_reviews[num_cols].iloc[0].values\n",
    "bar_positions = arange(5) + 1\n",
    "ax.barh(bar_positions, bar_widths, 0.5)"
   ]
  },
  {
   "cell_type": "code",
   "execution_count": null,
   "id": "1ea6b6b2",
   "metadata": {},
   "outputs": [],
   "source": [
    "# Axes.set_yticks\n",
    "\n",
    "# Axes.set_ytickslabels()"
   ]
  },
  {
   "cell_type": "code",
   "execution_count": 36,
   "id": "30a37b79",
   "metadata": {},
   "outputs": [
    {
     "data": {
      "text/plain": [
       "[Text(0, 0, 'RT_user_norm'),\n",
       " Text(0, 1, 'Metacritic_user_nom'),\n",
       " Text(0, 2, 'IMDB_norm'),\n",
       " Text(0, 3, 'Fandango_Ratingvalue'),\n",
       " Text(0, 4, 'Fandango_Stars')]"
      ]
     },
     "execution_count": 36,
     "metadata": {},
     "output_type": "execute_result"
    }
   ],
   "source": [
    "tick_positions = range(5)\n",
    "ax.set_yticks(tick_positions)\n",
    "ax.set_yticklabels(num_cols)"
   ]
  },
  {
   "cell_type": "markdown",
   "id": "08025d6b",
   "metadata": {},
   "source": [
    "#### Mission:\n",
    "- Créer un sous-graphique et assigner l'objet Figure à la variable fig et l'objet Axes à la variable ax.\n",
    "- Générer un diagramme en barres avec:\n",
    ">- bottom pour les positions bar_positions\n",
    ">- width pour la largeur des barres bar_widths\n",
    ">- height fixé à 0.5\n",
    "- Placer les 5 traits correspondants aux barres sur l'axe y.\n",
    "- Placer les intitulés de num_cols.\n",
    "- Définir l'axe y par 'Sources de notes'.\n",
    "- Définir l'axe x par 'Note moyenne'.\n",
    "- définir le titre par 'Note moyenne utilisateurs pour le film Avengers: Age of Ultron (2015)'.\n",
    "- Utiliser plt.show() pour afficher le diagramme en barre."
   ]
  },
  {
   "cell_type": "code",
   "execution_count": 25,
   "id": "9e8cb374",
   "metadata": {},
   "outputs": [
    {
     "data": {
      "image/png": "[encoded data removed]",
      "text/plain": [
       "<Figure size 432x288 with 1 Axes>"
      ]
     },
     "metadata": {
      "needs_background": "light"
     },
     "output_type": "display_data"
    }
   ],
   "source": [
    "import matplotlib.pyplot as plt\n",
    "from numpy import arange\n",
    "num_cols = ['RT_user_norm', 'Metacritic_user_nom', 'IMDB_norm', 'Fandango_Ratingvalue', 'Fandango_Stars']\n",
    "\n",
    "bar_widths = norm_reviews[num_cols].iloc[0].values\n",
    "bar_positions = arange(5) + 1\n",
    "tick_positions = range(1,6)\n",
    "fig, ax = plt.subplots()\n",
    "\n",
    "ax.barh(bar_positions, bar_widths, 0.5)\n",
    "\n",
    "ax.set_yticks(tick_positions)\n",
    "ax.set_yticklabels(num_cols)\n",
    "ax.set_ylabel('Sources de note')\n",
    "ax.set_xlabel('Note moyenne')\n",
    "ax.set_title('Note moyenne utilisateurs pour le film Avengers: Age of Ultron (2015)')\n",
    "\n",
    "plt.show()"
   ]
  },
  {
   "cell_type": "markdown",
   "id": "d6019761",
   "metadata": {},
   "source": [
    "## Graphique à nuage de points"
   ]
  },
  {
   "cell_type": "code",
   "execution_count": null,
   "id": "f1ea7849",
   "metadata": {},
   "outputs": [],
   "source": [
    "# Axes.scatter(x,y)"
   ]
  },
  {
   "cell_type": "markdown",
   "id": "dae4a4e8",
   "metadata": {},
   "source": [
    "#### Mission:\n",
    "- Créer un sous-graphique et assigner l'objet Figure à la variable fig et l'objet Axes à la variable ax.\n",
    "- Générer un graphique à nuage de points avec la colonne 'Fandango_Ratingvalue' sur l'axe x et et la colonne 'RT_user_norm' pour l'axe y.\n",
    "- Définir pour l'axe x 'Fandango' et 'Rotten Tomatoes' pour l'axe y.\n",
    "- Afficher le graphique résultant."
   ]
  },
  {
   "cell_type": "code",
   "execution_count": 37,
   "id": "c1cfc995",
   "metadata": {},
   "outputs": [
    {
     "data": {
      "image/png": "[encoded data removed]",
      "text/plain": [
       "<Figure size 432x288 with 1 Axes>"
      ]
     },
     "metadata": {
      "needs_background": "light"
     },
     "output_type": "display_data"
    }
   ],
   "source": [
    "fig, ax = plt.subplots()\n",
    "ax.scatter(norm_reviews['Fandango_Ratingvalue'], norm_reviews['RT_user_norm'])\n",
    "ax.set_xlabel('Fandango')\n",
    "ax.set_ylabel('Rotten Tomatoes')\n",
    "plt.show()"
   ]
  },
  {
   "cell_type": "markdown",
   "id": "1e31671b",
   "metadata": {},
   "source": [
    "## Intervertir les axes"
   ]
  },
  {
   "cell_type": "markdown",
   "id": "cd2a85d5",
   "metadata": {},
   "source": [
    "#### Mission:\n",
    "- Pour le sous-graphique associé à la variable ax1.\n",
    ">- Générer un graphique à nuage de points avec la colonne 'Fandango_Ratingvalue' sur l'axe x et la colonne 'RT_user_norm' sur l'axe y\n",
    ">- Définir pour l'axe x 'Fandango' et pour l'axe y 'Rotten Tomatoes'\n",
    "- Pour le sous-graphique associé à la variable ax2.\n",
    ">- Générer un graphique à nuage de points avec la colonne 'RT_user_norm' sur l'axe x et la colonne 'Fandango_Ratingvalue' sur l'axe y\n",
    ">- Définir pour l'axe x 'Rotten Tomatoes' et pour l'axe y 'fandango'\n",
    "- Afficher le graphique résultant."
   ]
  },
  {
   "cell_type": "code",
   "execution_count": 39,
   "id": "7f3a5e25",
   "metadata": {},
   "outputs": [
    {
     "data": {
      "image/png": "[encoded data removed]",
      "text/plain": [
       "<Figure size 360x720 with 2 Axes>"
      ]
     },
     "metadata": {
      "needs_background": "light"
     },
     "output_type": "display_data"
    }
   ],
   "source": [
    "fig = plt.figure(figsize=(5,10))\n",
    "ax1 = fig.add_subplot(2,1,1)\n",
    "ax2 = fig.add_subplot(2,1,2)\n",
    "\n",
    "ax1.scatter(norm_reviews['Fandango_Ratingvalue'], norm_reviews['RT_user_norm'])\n",
    "ax1.set_xlabel('Fandango')\n",
    "ax1.set_ylabel('Rotten Tomatoes')\n",
    "\n",
    "ax2.scatter (norm_reviews['RT_user_norm'], norm_reviews['Fandango_Ratingvalue'])\n",
    "ax2.set_xlabel('Rotten Tomatoes')\n",
    "ax2.set_ylabel('Fandango')\n",
    "\n",
    "plt.show()"
   ]
  },
  {
   "cell_type": "markdown",
   "id": "918c30af",
   "metadata": {},
   "source": [
    "## Comparaison de corrélations"
   ]
  },
  {
   "cell_type": "code",
   "execution_count": 41,
   "id": "9f5c620d",
   "metadata": {},
   "outputs": [],
   "source": [
    "# Axes.set_xlim()\n",
    "# Axes.set_ylim()"
   ]
  },
  {
   "cell_type": "code",
   "execution_count": 42,
   "id": "cff21690",
   "metadata": {},
   "outputs": [
    {
     "data": {
      "text/plain": [
       "(0.0, 5.0)"
      ]
     },
     "execution_count": 42,
     "metadata": {},
     "output_type": "execute_result"
    }
   ],
   "source": [
    "ax.set_xlim(0,5)\n",
    "ax.set_ylim(0,5)"
   ]
  },
  {
   "cell_type": "markdown",
   "id": "9e8c2332",
   "metadata": {},
   "source": [
    "#### Mission:\n",
    "Tracer un graphiques avec 3 sous-graphiques:\n",
    "- Pour le sous-graphique associé à la variable ax1:\n",
    ">- Générer un graphique à nuage de points avec la colonne 'Fandango_Ratingvalue' sur l'axe x et la colonne 'RT_user_norm' sur l'axe y\n",
    ">- Définir pour l'axe x 'Fandango' et pour l'axe y 'Rotten Tomatoes'\n",
    ">- Définir les limites des axes x et y en les fixant de 0 à 5\n",
    "- Pour le sous-graphique associé à la variable ax2:\n",
    ">- Générer un graphique à nuage de points avec la colonne 'Fandango_Ratingvalue' sur l'axe x et la colonne 'Metacritic_user_nom' sur l'axe y\n",
    ">- Définir pour l'axe x 'Fandango' et pour l'axe y 'Metacritic'\n",
    ">- Définir les limites des axes x et y en les fixant de 0 à 5\n",
    "- Pour le sous-graphique associé à la variable ax3:\n",
    ">- Générer un graphique à nuage de points avec la colonne 'Fandango_Ratingvalue' sur l'axe x et la colonne 'IMDB_norm' sur l'axe y\n",
    ">- Définir pour l'axe x 'Fandango' et pour l'axe y 'IMDB'\n",
    ">- Définir les limites des axes x et y en les fixant de 0 à 5\n",
    "- Afficher le graphique."
   ]
  },
  {
   "cell_type": "code",
   "execution_count": 40,
   "id": "a600e2d3",
   "metadata": {},
   "outputs": [
    {
     "data": {
      "image/png": "[encoded data removed]",
      "text/plain": [
       "<Figure size 360x720 with 3 Axes>"
      ]
     },
     "metadata": {
      "needs_background": "light"
     },
     "output_type": "display_data"
    }
   ],
   "source": [
    "import matplotlib.pyplot as plt\n",
    "\n",
    "fig = plt.figure(figsize=(5,10))\n",
    "\n",
    "ax1 = fig.add_subplot(3,1,1)\n",
    "ax2 = fig.add_subplot(3,1,2)\n",
    "ax3 = fig.add_subplot(3,1,3)\n",
    "\n",
    "ax1.scatter(norm_reviews['Fandango_Ratingvalue'], norm_reviews['RT_user_norm'])\n",
    "ax1.set_xlabel('Fandango')\n",
    "ax1.set_ylabel('Rotten Tomatoes')\n",
    "ax1.set_xlim(0,5)\n",
    "ax1.set_ylim(0,5)\n",
    "\n",
    "ax2.scatter(norm_reviews['Fandango_Ratingvalue'], norm_reviews['Metacritic_user_nom'])\n",
    "ax2.set_xlabel('Fandango')\n",
    "ax2.set_ylabel('Metacritic')\n",
    "ax2.set_xlim(0,5)\n",
    "ax2.set_ylim(0,5)\n",
    "\n",
    "ax3.scatter(norm_reviews['Fandango_Ratingvalue'], norm_reviews['IMDB_norm'])\n",
    "ax3.set_xlabel('Fandango')\n",
    "ax3.set_ylabel('IMDB')\n",
    "ax3.set_xlim(0,5)\n",
    "ax3.set_ylim(0,5)\n",
    "\n",
    "plt.show()"
   ]
  },
  {
   "cell_type": "code",
   "execution_count": null,
   "id": "fde6496b",
   "metadata": {},
   "outputs": [],
   "source": []
  }
 ],
 "metadata": {
  "kernelspec": {
   "display_name": "Python 3 (ipykernel)",
   "language": "python",
   "name": "python3"
  },
  "language_info": {
   "codemirror_mode": {
    "name": "ipython",
    "version": 3
   },
   "file_extension": ".py",
   "mimetype": "text/x-python",
   "name": "python",
   "nbconvert_exporter": "python",
   "pygments_lexer": "ipython3",
   "version": "3.9.7"
  }
 },
 "nbformat": 4,
 "nbformat_minor": 5
}
