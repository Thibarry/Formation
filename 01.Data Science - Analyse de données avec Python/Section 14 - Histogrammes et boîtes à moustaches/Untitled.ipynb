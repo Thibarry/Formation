{
 "cells": [
  {
   "cell_type": "markdown",
   "id": "6d441a43",
   "metadata": {},
   "source": [
    "# Histogrammes et boîtes à moustaches"
   ]
  },
  {
   "cell_type": "markdown",
   "id": "86b9c3f0",
   "metadata": {},
   "source": [
    "## Introduction"
   ]
  },
  {
   "cell_type": "code",
   "execution_count": 2,
   "id": "5ab8da52",
   "metadata": {},
   "outputs": [
    {
     "name": "stdout",
     "output_type": "stream",
     "text": [
      "                             FILM  RT_user_norm  Metacritic_user_nom  \\\n",
      "0  Avengers: Age of Ultron (2015)           4.3                 3.55   \n",
      "1               Cinderella (2015)           4.0                 3.75   \n",
      "2                  Ant-Man (2015)           4.5                 4.05   \n",
      "3          Do You Believe? (2015)           4.2                 2.35   \n",
      "4   Hot Tub Time Machine 2 (2015)           1.4                 1.70   \n",
      "\n",
      "   IMDB_norm  Fandango_Ratingvalue  \n",
      "0       3.90                   4.5  \n",
      "1       3.55                   4.5  \n",
      "2       3.90                   4.5  \n",
      "3       2.70                   4.5  \n",
      "4       2.55                   3.0  \n"
     ]
    }
   ],
   "source": [
    "import pandas as pd\n",
    "\n",
    "path     = \"C:/Users/Thierno Barry/Documents/Python Scripts/01.Data Science - Analyse de données avec Python/00. Data/\"\n",
    "fichier  = \"fandango_scores.csv\"\n",
    "reviews  = pd.read_csv(path+fichier)\n",
    "cols     = ['FILM', 'RT_user_norm', 'Metacritic_user_nom', 'IMDB_norm', 'Fandango_Ratingvalue']\n",
    "\n",
    "norm_reviews = reviews[cols]\n",
    "print(norm_reviews[:5])"
   ]
  },
  {
   "cell_type": "markdown",
   "id": "9aad1a0e",
   "metadata": {},
   "source": [
    "## Distribution de fréquences"
   ]
  },
  {
   "cell_type": "code",
   "execution_count": 3,
   "id": "35cc72b0",
   "metadata": {},
   "outputs": [],
   "source": [
    "# Series;values_counts()"
   ]
  },
  {
   "cell_type": "code",
   "execution_count": 5,
   "id": "3f15b2bd",
   "metadata": {},
   "outputs": [
    {
     "data": {
      "text/plain": [
       "4.1    16\n",
       "3.9    12\n",
       "4.2    12\n",
       "4.3    11\n",
       "4.5     9\n",
       "3.7     9\n",
       "3.4     9\n",
       "3.5     9\n",
       "3.6     8\n",
       "4.4     7\n",
       "4.0     7\n",
       "3.2     5\n",
       "3.8     5\n",
       "2.9     5\n",
       "3.0     4\n",
       "3.3     4\n",
       "4.6     4\n",
       "4.8     3\n",
       "3.1     3\n",
       "2.8     2\n",
       "2.7     2\n",
       "Name: Fandango_Ratingvalue, dtype: int64"
      ]
     },
     "execution_count": 5,
     "metadata": {},
     "output_type": "execute_result"
    }
   ],
   "source": [
    "freq_counts = norm_reviews['Fandango_Ratingvalue'].value_counts()\n",
    "freq_counts"
   ]
  },
  {
   "cell_type": "code",
   "execution_count": 6,
   "id": "834a62f8",
   "metadata": {},
   "outputs": [],
   "source": [
    "# Series.sort_index()"
   ]
  },
  {
   "cell_type": "code",
   "execution_count": 7,
   "id": "51ff6a14",
   "metadata": {},
   "outputs": [
    {
     "data": {
      "text/plain": [
       "2.7     2\n",
       "2.8     2\n",
       "2.9     5\n",
       "3.0     4\n",
       "3.1     3\n",
       "3.2     5\n",
       "3.3     4\n",
       "3.4     9\n",
       "3.5     9\n",
       "3.6     8\n",
       "3.7     9\n",
       "3.8     5\n",
       "3.9    12\n",
       "4.0     7\n",
       "4.1    16\n",
       "4.2    12\n",
       "4.3    11\n",
       "4.4     7\n",
       "4.5     9\n",
       "4.6     4\n",
       "4.8     3\n",
       "Name: Fandango_Ratingvalue, dtype: int64"
      ]
     },
     "execution_count": 7,
     "metadata": {},
     "output_type": "execute_result"
    }
   ],
   "source": [
    "serted_freq_counts = freq_counts.sort_index()\n",
    "serted_freq_counts"
   ]
  },
  {
   "cell_type": "markdown",
   "id": "01f42e9f",
   "metadata": {},
   "source": [
    "#### Mission:\n",
    "- Utiliser la méthode value_counts() pour retourner le décompte des fréquences de la colonne 'IMDB_norm'. Trier l'objet Series résultant par son index et assigner le résultat à la variable imdb_distribution.\n",
    "- Afficher le résultat."
   ]
  },
  {
   "cell_type": "code",
   "execution_count": 10,
   "id": "de453292",
   "metadata": {},
   "outputs": [
    {
     "name": "stdout",
     "output_type": "stream",
     "text": [
      "2.00     1\n",
      "2.10     1\n",
      "2.15     1\n",
      "2.20     1\n",
      "2.30     2\n",
      "2.45     2\n",
      "2.50     1\n",
      "2.55     1\n",
      "2.60     2\n",
      "2.70     4\n",
      "2.75     5\n",
      "2.80     2\n",
      "2.85     1\n",
      "2.90     1\n",
      "2.95     3\n",
      "3.00     2\n",
      "3.05     4\n",
      "3.10     1\n",
      "3.15     9\n",
      "3.20     6\n",
      "3.25     4\n",
      "3.30     9\n",
      "3.35     7\n",
      "3.40     1\n",
      "3.45     7\n",
      "3.50     4\n",
      "3.55     7\n",
      "3.60    10\n",
      "3.65     5\n",
      "3.70     8\n",
      "3.75     6\n",
      "3.80     3\n",
      "3.85     4\n",
      "3.90     9\n",
      "3.95     2\n",
      "4.00     1\n",
      "4.05     1\n",
      "4.10     4\n",
      "4.15     1\n",
      "4.20     2\n",
      "4.30     1\n",
      "Name: IMDB_norm, dtype: int64\n"
     ]
    }
   ],
   "source": [
    "imdb_distribution = norm_reviews['IMDB_norm'].value_counts()\n",
    "imdb_distribution = imdb_distribution.sort_index()\n",
    "\n",
    "print(imdb_distribution)"
   ]
  },
  {
   "cell_type": "markdown",
   "id": "0475bca6",
   "metadata": {},
   "source": [
    "## Les histogramme avec Matplotlib"
   ]
  },
  {
   "cell_type": "code",
   "execution_count": 11,
   "id": "c0ebc886",
   "metadata": {},
   "outputs": [],
   "source": [
    "# Axes.hist(values, range=(a,b))"
   ]
  },
  {
   "cell_type": "markdown",
   "id": "b73b16ed",
   "metadata": {},
   "source": [
    "#### Mission:\n",
    "- Créer un sous-graphique et assigner les objets Figure à la variable fig et Axes à la variable ax.\n",
    "- Générer un histogramme des valeurs de la colonne 'Fandango_Ratingvalue' en utilisant un range de 0 à 5.\n",
    "- Utiliser plt.show() pour afficher le graphique."
   ]
  },
  {
   "cell_type": "code",
   "execution_count": 12,
   "id": "b21fe6b4",
   "metadata": {},
   "outputs": [
    {
     "data": {
      "image/png": "[encoded data removed]",
      "text/plain": [
       "<Figure size 432x288 with 1 Axes>"
      ]
     },
     "metadata": {
      "needs_background": "light"
     },
     "output_type": "display_data"
    }
   ],
   "source": [
    "import matplotlib.pyplot as plt\n",
    "\n",
    "fig, ax = plt.subplots()\n",
    "ax.hist(norm_reviews['Fandango_Ratingvalue'], range=(0,5))\n",
    "plt.show()"
   ]
  },
  {
   "cell_type": "markdown",
   "id": "99c1cd2d",
   "metadata": {},
   "source": [
    "## Comparaison d'histogrammes"
   ]
  },
  {
   "cell_type": "code",
   "execution_count": 13,
   "id": "65332ce9",
   "metadata": {},
   "outputs": [],
   "source": [
    "# ax.hist(Series, bins=20, range(a,b))\n",
    "\n",
    "# ax.hist(Series, 20, range(...))"
   ]
  },
  {
   "cell_type": "markdown",
   "id": "e88a84e0",
   "metadata": {},
   "source": [
    "#### Mission:\n",
    "Tracer un graphique avec 4 sous-graphiques:\n",
    "- Pour le sous-graphique associé à la variable ax1:\n",
    ">- Générer un histogramme des valeurs de la colonne 'Fandango_Ratingvalue' en utilisant 20 classes (bins) et un intervalle de 0 à 5\n",
    "- Pour le sous-graphique associé à la variable ax2:\n",
    ">- Générer un histogramme des valeurs de la colonne 'RT_user_norm' en utilisant 20 classes (bins) et un intervalle de 0 à 5\n",
    "- Pour le sous-graphique associé à la variable ax3:\n",
    ">- Générer un histogramme des valeurs de la colonne 'Metacritic_user_nom' en utilisant 20 classes (bins) et un intervalle de 0 à 5\n",
    "- Pour le sous-graphique associé à la variable ax4:\n",
    ">- Générer un histogramme des valeurs de la colonne 'IMDB_norm' en utilisant 20 classes (bins) et un intervalle de 0 à 5\n",
    "- Pour tous les graphiques définir l'intervalle sur l'axe y de 0 à 50 en utilisant Axes.set_ylim() et choisir un titre.\n",
    "- Afficher les histogrammes."
   ]
  },
  {
   "cell_type": "code",
   "execution_count": 14,
   "id": "ee7ce38b",
   "metadata": {},
   "outputs": [
    {
     "data": {
      "image/png": "[encoded data removed]",
      "text/plain": [
       "<Figure size 360x1440 with 4 Axes>"
      ]
     },
     "metadata": {
      "needs_background": "light"
     },
     "output_type": "display_data"
    }
   ],
   "source": [
    "fig = plt.figure(figsize=(5,20))\n",
    "ax1 = fig.add_subplot(4,1,1)\n",
    "ax2 = fig.add_subplot(4,1,2)\n",
    "ax3 = fig.add_subplot(4,1,3)\n",
    "ax4 = fig.add_subplot(4,1,4)\n",
    "\n",
    "ax1.hist(norm_reviews['Fandango_Ratingvalue'], bins=20, range=(0,5))\n",
    "ax1.set_title('Distribution des notes de fandango')\n",
    "ax1.set_ylim(0,50)\n",
    "\n",
    "ax2.hist(norm_reviews['RT_user_norm'], bins=20, range=(0,5))\n",
    "ax2.set_title('Distribution des notes de Rotten Tomatoes')\n",
    "ax2.set_ylim(0,50)\n",
    "\n",
    "ax3.hist(norm_reviews['Metacritic_user_nom'], bins=20, range=(0,5))\n",
    "ax3.set_title('Distribution des notes de Metacritic')\n",
    "ax3.set_ylim(0,50)\n",
    "\n",
    "ax4.hist(norm_reviews['IMDB_norm'], bins=20, range=(0,5))\n",
    "ax4.set_title('Distribution des notes de IMDB')\n",
    "ax4.set_ylim(0,50)\n",
    "\n",
    "plt.show()"
   ]
  },
  {
   "cell_type": "markdown",
   "id": "8eac3311",
   "metadata": {},
   "source": [
    "## Boîte à moustaches"
   ]
  },
  {
   "cell_type": "code",
   "execution_count": 15,
   "id": "4ec456ef",
   "metadata": {},
   "outputs": [],
   "source": [
    "# axes.boxplot()"
   ]
  },
  {
   "cell_type": "code",
   "execution_count": 17,
   "id": "e061dc49",
   "metadata": {},
   "outputs": [
    {
     "data": {
      "image/png": "[encoded data removed]",
      "text/plain": [
       "<Figure size 432x288 with 1 Axes>"
      ]
     },
     "metadata": {
      "needs_background": "light"
     },
     "output_type": "display_data"
    }
   ],
   "source": [
    "fig, ax = plt.subplots()\n",
    "ax.boxplot(norm_reviews['RT_user_norm'])\n",
    "ax.set_xticklabels(['Rotten Tomatoes'])\n",
    "ax.set_ylim(0,5)\n",
    "plt.show()"
   ]
  },
  {
   "cell_type": "markdown",
   "id": "55d84d9d",
   "metadata": {},
   "source": [
    "## Plusieurs diagrammes à boîtes"
   ]
  },
  {
   "cell_type": "code",
   "execution_count": null,
   "id": "d4dae742",
   "metadata": {},
   "outputs": [],
   "source": []
  },
  {
   "cell_type": "markdown",
   "id": "bd44a795",
   "metadata": {},
   "source": [
    "#### Mission:\n",
    "- Créer un sous-graphique et assigner les objets Figure à la variable fig et Axes à la variable ax.\n",
    "- Générer un diagramme à boîtes pour chaque colonne de num_cols = ['RT_user_norm', 'Metacritic_user_nom', 'IMDB_norm', 'Fandango_Ratingvalue'].\n",
    "- Définir pour chaque diagramme un intitulé correspondant au nom de la colonne num_cols et faire une rotation à 90 degrés de cet intitulé.\n",
    "- Définir l'intervalle de l'axe y de 0 à 5.\n",
    "- Afficher le graphique."
   ]
  },
  {
   "cell_type": "code",
   "execution_count": 18,
   "id": "2ec82eb8",
   "metadata": {},
   "outputs": [
    {
     "data": {
      "image/png": "[encoded data removed]",
      "text/plain": [
       "<Figure size 432x288 with 1 Axes>"
      ]
     },
     "metadata": {
      "needs_background": "light"
     },
     "output_type": "display_data"
    }
   ],
   "source": [
    "num_cols = ['RT_user_norm', 'Metacritic_user_nom', 'Fandango_Ratingvalue', 'IMDB_norm']\n",
    "fig, ax = plt.subplots()\n",
    "ax.boxplot(norm_reviews[num_cols].values)\n",
    "ax.set_xticklabels(num_cols, rotation=90)\n",
    "ax.set_ylim(0,5)\n",
    "plt.show()"
   ]
  },
  {
   "cell_type": "code",
   "execution_count": null,
   "id": "9608585a",
   "metadata": {},
   "outputs": [],
   "source": []
  }
 ],
 "metadata": {
  "kernelspec": {
   "display_name": "Python 3 (ipykernel)",
   "language": "python",
   "name": "python3"
  },
  "language_info": {
   "codemirror_mode": {
    "name": "ipython",
    "version": 3
   },
   "file_extension": ".py",
   "mimetype": "text/x-python",
   "name": "python",
   "nbconvert_exporter": "python",
   "pygments_lexer": "ipython3",
   "version": "3.9.7"
  }
 },
 "nbformat": 4,
 "nbformat_minor": 5
}
