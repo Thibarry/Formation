{
 "cells": [
  {
   "cell_type": "markdown",
   "id": "8d1c3351",
   "metadata": {},
   "source": [
    "## Créez vos premiers arrays avec NumPy"
   ]
  },
  {
   "cell_type": "code",
   "execution_count": 1,
   "id": "c8e72912",
   "metadata": {},
   "outputs": [],
   "source": [
    "import numpy as np"
   ]
  },
  {
   "cell_type": "code",
   "execution_count": 2,
   "id": "59006ba8",
   "metadata": {},
   "outputs": [],
   "source": [
    "revenus = [1800, 1500, 2200, 3000, 2172]"
   ]
  },
  {
   "cell_type": "markdown",
   "id": "c3960bef",
   "metadata": {},
   "source": [
    "### Les arrays NumPy"
   ]
  },
  {
   "cell_type": "code",
   "execution_count": 3,
   "id": "f3ef6d5c",
   "metadata": {},
   "outputs": [
    {
     "data": {
      "text/plain": [
       "2134.4"
      ]
     },
     "execution_count": 3,
     "metadata": {},
     "output_type": "execute_result"
    }
   ],
   "source": [
    "def moyenne(liste):\n",
    "    return sum(liste)/len(liste)\n",
    "moyenne(revenus) # => 2134.4"
   ]
  },
  {
   "cell_type": "code",
   "execution_count": 4,
   "id": "989877fc",
   "metadata": {},
   "outputs": [
    {
     "data": {
      "text/plain": [
       "2134.4"
      ]
     },
     "execution_count": 4,
     "metadata": {},
     "output_type": "execute_result"
    }
   ],
   "source": [
    "np.mean(revenus)"
   ]
  },
  {
   "cell_type": "code",
   "execution_count": 5,
   "id": "9ed1914d",
   "metadata": {},
   "outputs": [
    {
     "name": "stdout",
     "output_type": "stream",
     "text": [
      "La valeur absolue:  [2 1 1 2]\n",
      "Exponentielle:  [0.13533528 0.36787944 2.71828183 7.3890561 ]\n",
      "Logarithme:  [0.69314718 0.         0.         0.69314718]\n"
     ]
    }
   ],
   "source": [
    "x = [-2, -1, 1, 2]\n",
    "print(\"La valeur absolue: \", np.abs(x))\n",
    "print(\"Exponentielle: \", np.exp(x))\n",
    "print(\"Logarithme: \", np.log(np.abs(x)))"
   ]
  },
  {
   "cell_type": "markdown",
   "id": "1e19493f",
   "metadata": {},
   "source": [
    "### Créez un array NumPy"
   ]
  },
  {
   "cell_type": "code",
   "execution_count": 6,
   "id": "1c1306f7",
   "metadata": {},
   "outputs": [
    {
     "data": {
      "text/plain": [
       "array([1800, 1500, 2200, 3000, 2172])"
      ]
     },
     "metadata": {},
     "output_type": "display_data"
    }
   ],
   "source": [
    "revenus_array = np.array(revenus)\n",
    "display(revenus_array)"
   ]
  },
  {
   "cell_type": "markdown",
   "id": "39193eb7",
   "metadata": {},
   "source": [
    "### Créez un array monotype"
   ]
  },
  {
   "cell_type": "code",
   "execution_count": 7,
   "id": "c1fac3e1",
   "metadata": {},
   "outputs": [
    {
     "data": {
      "text/plain": [
       "dtype('int32')"
      ]
     },
     "execution_count": 7,
     "metadata": {},
     "output_type": "execute_result"
    }
   ],
   "source": [
    "revenus_array.dtype"
   ]
  },
  {
   "cell_type": "markdown",
   "id": "0cdea7b7",
   "metadata": {},
   "source": [
    "### Sélectionnez des éléments au sein d’un array"
   ]
  },
  {
   "cell_type": "markdown",
   "id": "8d11d16c",
   "metadata": {},
   "source": [
    "Accédez à un seul élément"
   ]
  },
  {
   "cell_type": "code",
   "execution_count": 10,
   "id": "4ce47049",
   "metadata": {},
   "outputs": [
    {
     "data": {
      "text/plain": [
       "2172"
      ]
     },
     "execution_count": 10,
     "metadata": {},
     "output_type": "execute_result"
    }
   ],
   "source": [
    "# pour accéder au 5ème élement\n",
    "revenus_array[4]"
   ]
  },
  {
   "cell_type": "code",
   "execution_count": 11,
   "id": "37501df4",
   "metadata": {},
   "outputs": [
    {
     "data": {
      "text/plain": [
       "2172"
      ]
     },
     "execution_count": 11,
     "metadata": {},
     "output_type": "execute_result"
    }
   ],
   "source": [
    "# pour accéder au dernier élément\n",
    "revenus_array[-1]"
   ]
  },
  {
   "cell_type": "code",
   "execution_count": 12,
   "id": "1ac0d41a",
   "metadata": {},
   "outputs": [],
   "source": [
    "# On peut aussi modifier les valeurs\n",
    "revenus_array[1] = 1900"
   ]
  },
  {
   "cell_type": "markdown",
   "id": "40c20680",
   "metadata": {},
   "source": [
    "Accédez à plusieurs éléments contigus\n",
    "Nous pouvons accéder à un ensemble d'éléments contigus en combinant **`[]`**  et  **`:`** . La syntaxe suit une règle simple : **`nom_array[i:j:p]`** , avec :\n",
    "\n",
    "* i : l’indice du début ;\n",
    "* j : l’indice de fin ;\n",
    "* p : le pas."
   ]
  },
  {
   "cell_type": "code",
   "execution_count": 13,
   "id": "ab881f71",
   "metadata": {},
   "outputs": [
    {
     "data": {
      "text/plain": [
       "array([1800, 1900, 2200])"
      ]
     },
     "execution_count": 13,
     "metadata": {},
     "output_type": "execute_result"
    }
   ],
   "source": [
    "revenus_array[0:3]"
   ]
  },
  {
   "cell_type": "code",
   "execution_count": 14,
   "id": "b4bb50ba",
   "metadata": {},
   "outputs": [
    {
     "name": "stdout",
     "output_type": "stream",
     "text": [
      "[1800 1900 2200]\n"
     ]
    }
   ],
   "source": [
    "# Les 3 premiers éléments\n",
    "print(revenus_array[:3])"
   ]
  },
  {
   "cell_type": "code",
   "execution_count": 15,
   "id": "3dd1bc50",
   "metadata": {},
   "outputs": [
    {
     "name": "stdout",
     "output_type": "stream",
     "text": [
      "[2200 3000 2172]\n"
     ]
    }
   ],
   "source": [
    "# Les éléments à partir de l’indice 2\n",
    "print(revenus_array[2:])"
   ]
  },
  {
   "cell_type": "code",
   "execution_count": 16,
   "id": "f548df98",
   "metadata": {},
   "outputs": [
    {
     "name": "stdout",
     "output_type": "stream",
     "text": [
      "[1800 2200 2172]\n"
     ]
    }
   ],
   "source": [
    "# Un élément sur deux\n",
    "print(revenus_array[::2])"
   ]
  },
  {
   "cell_type": "markdown",
   "id": "4889765a",
   "metadata": {},
   "source": [
    "Accédez à plusieurs éléments selon une condition"
   ]
  },
  {
   "cell_type": "code",
   "execution_count": 17,
   "id": "d53210d2",
   "metadata": {},
   "outputs": [
    {
     "data": {
      "text/plain": [
       "array([2200, 3000, 2172])"
      ]
     },
     "execution_count": 17,
     "metadata": {},
     "output_type": "execute_result"
    }
   ],
   "source": [
    "revenus_array[revenus_array > 2000]"
   ]
  },
  {
   "cell_type": "code",
   "execution_count": 18,
   "id": "4e76a5f8",
   "metadata": {},
   "outputs": [
    {
     "data": {
      "text/plain": [
       "array([2200, 2172])"
      ]
     },
     "execution_count": 18,
     "metadata": {},
     "output_type": "execute_result"
    }
   ],
   "source": [
    "# plusieurs conditions : Et\n",
    "revenus_array[(revenus_array > 2000) & (revenus_array < 3000)]"
   ]
  },
  {
   "cell_type": "code",
   "execution_count": 19,
   "id": "e1b96a41",
   "metadata": {},
   "outputs": [
    {
     "data": {
      "text/plain": [
       "array([1800, 1900, 2200, 3000, 2172])"
      ]
     },
     "execution_count": 19,
     "metadata": {},
     "output_type": "execute_result"
    }
   ],
   "source": [
    "# plusieurs conditions : Ou\n",
    "revenus_array[(revenus_array > 2000) | (revenus_array < 3000)]"
   ]
  },
  {
   "cell_type": "markdown",
   "id": "8ef039ea",
   "metadata": {},
   "source": [
    "### Utilisez les méthodes d’array"
   ]
  },
  {
   "cell_type": "code",
   "execution_count": 21,
   "id": "cbf3fc7a",
   "metadata": {},
   "outputs": [
    {
     "data": {
      "text/plain": [
       "dtype('int32')"
      ]
     },
     "execution_count": 21,
     "metadata": {},
     "output_type": "execute_result"
    }
   ],
   "source": [
    "# type de notre array\n",
    "revenus_array.dtype"
   ]
  },
  {
   "cell_type": "code",
   "execution_count": 20,
   "id": "970abfdf",
   "metadata": {},
   "outputs": [
    {
     "data": {
      "text/plain": [
       "(5,)"
      ]
     },
     "execution_count": 20,
     "metadata": {},
     "output_type": "execute_result"
    }
   ],
   "source": [
    "# dimensions de notre array\n",
    "revenus_array.shape"
   ]
  },
  {
   "cell_type": "code",
   "execution_count": 22,
   "id": "c7c8ee33",
   "metadata": {},
   "outputs": [
    {
     "data": {
      "text/plain": [
       "2214.4"
      ]
     },
     "execution_count": 22,
     "metadata": {},
     "output_type": "execute_result"
    }
   ],
   "source": [
    "# calculer la moyenne\n",
    "revenus_array.mean()"
   ]
  },
  {
   "cell_type": "code",
   "execution_count": 24,
   "id": "29f8c660",
   "metadata": {},
   "outputs": [
    {
     "data": {
      "text/plain": [
       "3000"
      ]
     },
     "metadata": {},
     "output_type": "display_data"
    },
    {
     "data": {
      "text/plain": [
       "1800"
      ]
     },
     "metadata": {},
     "output_type": "display_data"
    }
   ],
   "source": [
    "# calculer le maximum (ou le minimum) :\n",
    "display(revenus_array.max())\n",
    "display(revenus_array.min())"
   ]
  },
  {
   "cell_type": "code",
   "execution_count": 26,
   "id": "3c43d8c7",
   "metadata": {},
   "outputs": [
    {
     "data": {
      "text/plain": [
       "0"
      ]
     },
     "metadata": {},
     "output_type": "display_data"
    },
    {
     "data": {
      "text/plain": [
       "3"
      ]
     },
     "metadata": {},
     "output_type": "display_data"
    }
   ],
   "source": [
    "# accéder à l’indice de l’élement minimum (ou maximum) :\n",
    "display(revenus_array.argmin())\n",
    "display(revenus_array.argmax())"
   ]
  },
  {
   "cell_type": "code",
   "execution_count": 27,
   "id": "505a695b",
   "metadata": {},
   "outputs": [
    {
     "name": "stdout",
     "output_type": "stream",
     "text": [
      "[1800 1900 2172 2200 3000]\n"
     ]
    }
   ],
   "source": [
    "# ordonner par ordre croissant :\n",
    "revenus_array.sort()\n",
    "print(revenus_array)"
   ]
  },
  {
   "cell_type": "markdown",
   "id": "a818ef43",
   "metadata": {},
   "source": [
    "### TD:\n",
    "Considérons les revenus mensuels suivants :"
   ]
  },
  {
   "cell_type": "code",
   "execution_count": 29,
   "id": "50e8a0af",
   "metadata": {},
   "outputs": [],
   "source": [
    "liste = [1800, 1500, 2200, 3000, 2172, 5000, 1400, 1200, 1100, 1300]"
   ]
  },
  {
   "cell_type": "markdown",
   "id": "4cc2ae81",
   "metadata": {},
   "source": [
    "A partir de ces revenus, créez un array que vous nommerez revenus :"
   ]
  },
  {
   "cell_type": "code",
   "execution_count": 30,
   "id": "feefeef3",
   "metadata": {},
   "outputs": [
    {
     "data": {
      "text/plain": [
       "array([1800, 1500, 2200, 3000, 2172, 5000, 1400, 1200, 1100, 1300])"
      ]
     },
     "metadata": {},
     "output_type": "display_data"
    }
   ],
   "source": [
    "revenus = np.array(liste)\n",
    "display(revenus)"
   ]
  },
  {
   "cell_type": "markdown",
   "id": "9b3605ae",
   "metadata": {},
   "source": [
    "Maintenant, créez un nouvel array `haut_revenus` dans lequel vous sélectionnerez l'ensemble des revenus supérieurs ou égal à 3000€ :"
   ]
  },
  {
   "cell_type": "code",
   "execution_count": 31,
   "id": "deb346f1",
   "metadata": {},
   "outputs": [
    {
     "data": {
      "text/plain": [
       "array([3000, 5000])"
      ]
     },
     "metadata": {},
     "output_type": "display_data"
    }
   ],
   "source": [
    "haut_revenus = revenus[revenus>=3000]\n",
    "display(haut_revenus)"
   ]
  },
  {
   "cell_type": "markdown",
   "id": "47ef128b",
   "metadata": {},
   "source": [
    " <div class=\"alert alert-warning\" role=\"alert\">\n",
    "  Notez qu'en python vous pouvez utiliser le '_' aka 'underscore' comme <strong>séparateur de milliers</strong>. En effet, '1 000 000' est plus facile à lire que '1000000'.\n",
    "</div>"
   ]
  },
  {
   "cell_type": "code",
   "execution_count": 32,
   "id": "d8bfc949",
   "metadata": {},
   "outputs": [
    {
     "data": {
      "text/plain": [
       "array([3000, 5000])"
      ]
     },
     "execution_count": 32,
     "metadata": {},
     "output_type": "execute_result"
    }
   ],
   "source": [
    "haut_revenus = revenus[revenus>=3_000]\n",
    "haut_revenus"
   ]
  },
  {
   "cell_type": "markdown",
   "id": "3f6d4aea",
   "metadata": {},
   "source": [
    "Il est à présent temps de calculer quelques indicateurs :\n",
    "- calculez dans un premier temps la somme des revenus **annuelle**. Pour rappel, les revenus listés ci dessus sont mensuels.\n",
    "- calculez ensuite la moyenne des revenus des 10 clients"
   ]
  },
  {
   "cell_type": "code",
   "execution_count": 33,
   "id": "a3603b9b",
   "metadata": {},
   "outputs": [
    {
     "data": {
      "text/plain": [
       "20672"
      ]
     },
     "execution_count": 33,
     "metadata": {},
     "output_type": "execute_result"
    }
   ],
   "source": [
    "# On calcule la somme : \n",
    "\n",
    "somme_sum = revenus.sum()\n",
    "somme_sum"
   ]
  },
  {
   "cell_type": "code",
   "execution_count": 34,
   "id": "5bd85620",
   "metadata": {},
   "outputs": [
    {
     "data": {
      "text/plain": [
       "248064"
      ]
     },
     "execution_count": 34,
     "metadata": {},
     "output_type": "execute_result"
    }
   ],
   "source": [
    "# On multiplie par 12 : \n",
    "\n",
    "somme = somme_sum * 12\n",
    "somme"
   ]
  },
  {
   "cell_type": "markdown",
   "id": "3b72a4bb",
   "metadata": {},
   "source": [
    " <div class=\"alert alert-info\" role=\"info\">\n",
    "Dans les premiers temps, il est bon de bien <strong>décomposer</strong> son code. Ecrire plusieurs lignes, passer par des \"<em>variables intermédiaires</em>\" et bien controler le résultat de chaque commande vous permettra d'éviter les <strong>erreurs</strong>, de prendre <strong>confiance</strong> dans votre code et de mieux <strong>maîtriser</strong> vos acquis. \n",
    "</div>\n",
    " <div class=\"alert alert-info\" role=\"info\">\n",
    "Dans un second temps, vous pourrez commencer à <strong>factoriser</strong> votre code, c'est à dire le \"<em>compresser</em>\": écrire plusieurs lignes en une seule, sans passer par des variables intermédiaires.\n",
    "</div>"
   ]
  },
  {
   "cell_type": "code",
   "execution_count": 36,
   "id": "0ab42182",
   "metadata": {},
   "outputs": [
    {
     "name": "stdout",
     "output_type": "stream",
     "text": [
      "La somme des revenus annuelle est : 248064 €\n"
     ]
    }
   ],
   "source": [
    "# Il était donc possible de faire les 2 opérations en une ligne : \n",
    "\n",
    "somme = revenus.sum() * 12\n",
    "print(\"La somme des revenus annuelle est :\", somme, \"€\")"
   ]
  },
  {
   "cell_type": "markdown",
   "id": "8fb4b6c3",
   "metadata": {},
   "source": [
    " <div class=\"alert alert-warning\" role=\"alert\">\n",
    "  Dans certains cas, l'<strong>ordre des opérations</strong> n'a pas d'influence sur le résultat.\n",
    "</div>"
   ]
  },
  {
   "cell_type": "code",
   "execution_count": 37,
   "id": "6e988438",
   "metadata": {},
   "outputs": [
    {
     "data": {
      "text/plain": [
       "array([21600, 18000, 26400, 36000, 26064, 60000, 16800, 14400, 13200,\n",
       "       15600])"
      ]
     },
     "execution_count": 37,
     "metadata": {},
     "output_type": "execute_result"
    }
   ],
   "source": [
    "# En effet, on pouvait aussi faire : \n",
    "\n",
    "revenus_12 = revenus * 12\n",
    "revenus_12"
   ]
  },
  {
   "cell_type": "code",
   "execution_count": 38,
   "id": "aab92004",
   "metadata": {},
   "outputs": [
    {
     "data": {
      "text/plain": [
       "248064"
      ]
     },
     "execution_count": 38,
     "metadata": {},
     "output_type": "execute_result"
    }
   ],
   "source": [
    "somme = revenus_12.sum()\n",
    "somme"
   ]
  },
  {
   "cell_type": "markdown",
   "id": "6ffdb72f",
   "metadata": {},
   "source": [
    "Enfin, en général, on note les \"grosses\" sommes en K€ ou en M€. Cela est plus facile à lire. De plus, votre interlocuteur retiendra plus volontier l'ordre de grandeur d'un chiffre ou même un chiffre 'rond' qu'un chiffre trop détaillé..."
   ]
  },
  {
   "cell_type": "code",
   "execution_count": 39,
   "id": "d5d769b0",
   "metadata": {},
   "outputs": [
    {
     "name": "stdout",
     "output_type": "stream",
     "text": [
      "La somme des revenus annuelle est : 248 K€\n",
      "La somme des revenus annuelle est d'environ: 250 K€\n",
      "La somme des revenus annuelle est : 0.25 M€\n"
     ]
    }
   ],
   "source": [
    "# Par exemple : \n",
    "\n",
    "somme_K = round(somme / 1000)\n",
    "print(\"La somme des revenus annuelle est :\", somme_K, \"K€\")\n",
    "# Voire même : \n",
    "\n",
    "print(\"La somme des revenus annuelle est d'environ:\", 250, \"K€\")\n",
    "# Ou encore : \n",
    "\n",
    "somme_M = round(somme / 1_000_000,2)\n",
    "print(\"La somme des revenus annuelle est :\", somme_M, \"M€\")"
   ]
  },
  {
   "cell_type": "markdown",
   "id": "f1549b76",
   "metadata": {},
   "source": [
    "Passons à la moyenne"
   ]
  },
  {
   "cell_type": "code",
   "execution_count": 40,
   "id": "66080ecf",
   "metadata": {},
   "outputs": [
    {
     "name": "stdout",
     "output_type": "stream",
     "text": [
      "La moyenne des revenus mensuelle est : 2067.2 €\n",
      "La moyenne des revenus mensuelle est : 2067 €\n"
     ]
    }
   ],
   "source": [
    "moyenne = revenus.mean()\n",
    "print(\"La moyenne des revenus mensuelle est :\", moyenne, \"€\")\n",
    "# Ou encore : \n",
    "\n",
    "moyenne = round(moyenne)\n",
    "print(\"La moyenne des revenus mensuelle est :\", moyenne, \"€\")"
   ]
  },
  {
   "cell_type": "markdown",
   "id": "c26a0223",
   "metadata": {},
   "source": [
    "Un de nos clients (dont les revenus mensuels s'élevaient jusque là à 1400€) vient de nous annoncer qu'il venait d'obtenir une promotion. Grâce à cette dernière, il a gagné 200€ sur son salaire mensuel. Effectuez cette modification au sein de votre array revenus."
   ]
  },
  {
   "cell_type": "code",
   "execution_count": 41,
   "id": "dbac232d",
   "metadata": {},
   "outputs": [
    {
     "name": "stdout",
     "output_type": "stream",
     "text": [
      "Array avant : [1800 1500 2200 3000 2172 5000 1400 1200 1100 1300]\n",
      "Array après : [1800 1500 2200 3000 2172 5000 1600 1200 1100 1300]\n"
     ]
    }
   ],
   "source": [
    "print(\"Array avant :\", revenus)\n",
    "\n",
    "revenus[revenus == 1400] = 1600\n",
    "print(\"Array après :\", revenus)"
   ]
  },
  {
   "cell_type": "markdown",
   "id": "1b004f72",
   "metadata": {},
   "source": [
    "La modification a bien été effectuée. \n",
    "\n",
    "Pour expliciter un peu plus cette ligne de code :\n",
    "- `revenus[revenus == 1400]` vient sélectionner l'ensemble des éléments qui sont strictement égals à 1400€ (donc ici le seul qui nous intéresse)\n",
    "- la suite vient modifier cet élement par la nouvelle valeur (ici 1600)\n",
    "\n",
    "Dans le cas de cette opération on pouvait utiliser également l'opérateur '+=' en écrivant `revenus[revenus == 1400] += 200`"
   ]
  },
  {
   "cell_type": "markdown",
   "id": "d40bdd66",
   "metadata": {},
   "source": [
    "## Transformez vos données en tableaux"
   ]
  },
  {
   "cell_type": "markdown",
   "id": "bc7b1aca",
   "metadata": {},
   "source": [
    "### Créez un tableau avec NumPy"
   ]
  },
  {
   "cell_type": "code",
   "execution_count": 43,
   "id": "65afdad1",
   "metadata": {},
   "outputs": [],
   "source": [
    "tab1 = np.array([[1, 2],\n",
    "    [3, 4],\n",
    "    [5, 6]])\n",
    "\n",
    "tab2 = np.array([[1, 2, 3],\n",
    "        [4, 5, 6]])"
   ]
  },
  {
   "cell_type": "code",
   "execution_count": 44,
   "id": "eb47fdda",
   "metadata": {},
   "outputs": [
    {
     "data": {
      "text/plain": [
       "array([[1, 2],\n",
       "       [3, 4],\n",
       "       [5, 6]])"
      ]
     },
     "metadata": {},
     "output_type": "display_data"
    },
    {
     "data": {
      "text/plain": [
       "array([[1, 2, 3],\n",
       "       [4, 5, 6]])"
      ]
     },
     "metadata": {},
     "output_type": "display_data"
    }
   ],
   "source": [
    "display(tab1)\n",
    "display(tab2)"
   ]
  },
  {
   "cell_type": "code",
   "execution_count": 45,
   "id": "c9528164",
   "metadata": {},
   "outputs": [
    {
     "data": {
      "text/plain": [
       "array([[1., 1., 1., 1., 1.],\n",
       "       [1., 1., 1., 1., 1.],\n",
       "       [1., 1., 1., 1., 1.]])"
      ]
     },
     "execution_count": 45,
     "metadata": {},
     "output_type": "execute_result"
    }
   ],
   "source": [
    "# un tableau de 3x5 rempli de 1\n",
    "np.ones((3, 5))"
   ]
  },
  {
   "cell_type": "code",
   "execution_count": 46,
   "id": "fa3b7bed",
   "metadata": {},
   "outputs": [
    {
     "data": {
      "text/plain": [
       "array([[0., 0., 0., 0.],\n",
       "       [0., 0., 0., 0.],\n",
       "       [0., 0., 0., 0.],\n",
       "       [0., 0., 0., 0.]])"
      ]
     },
     "execution_count": 46,
     "metadata": {},
     "output_type": "execute_result"
    }
   ],
   "source": [
    "# un tableau de 4 lignes et de 4 colonnes contenant que des 0\n",
    "np.zeros((4, 4))"
   ]
  },
  {
   "cell_type": "code",
   "execution_count": 47,
   "id": "2c4d20b2",
   "metadata": {},
   "outputs": [
    {
     "data": {
      "text/plain": [
       "array([[0.21425172, 0.02435898, 0.13401056],\n",
       "       [0.57053041, 0.05126319, 0.87457361],\n",
       "       [0.35902631, 0.39402162, 0.37521248],\n",
       "       [0.79595166, 0.34271027, 0.33993399],\n",
       "       [0.81529507, 0.13265156, 0.42986482],\n",
       "       [0.51395368, 0.54324828, 0.64636138]])"
      ]
     },
     "execution_count": 47,
     "metadata": {},
     "output_type": "execute_result"
    }
   ],
   "source": [
    "# un tableau de 6x3 rempli de valeurs aléatoires comprises entre 0 et 1\n",
    "np.random.random((6, 3))"
   ]
  },
  {
   "cell_type": "code",
   "execution_count": 48,
   "id": "c46c6cfb",
   "metadata": {},
   "outputs": [
    {
     "data": {
      "text/plain": [
       "array([[1, 7, 9],\n",
       "       [9, 3, 3],\n",
       "       [8, 6, 6]])"
      ]
     },
     "execution_count": 48,
     "metadata": {},
     "output_type": "execute_result"
    }
   ],
   "source": [
    "# un tableau de 3x3 rempli de valeurs aléatoires entières, comprises entre 1 et 10\n",
    "np.random.randint(1, 10, size=(3, 3))"
   ]
  },
  {
   "cell_type": "markdown",
   "id": "2056deb1",
   "metadata": {},
   "source": [
    "### Découvrez l’analogie entre les arrays et les matrices"
   ]
  },
  {
   "cell_type": "code",
   "execution_count": 49,
   "id": "787fed8d",
   "metadata": {},
   "outputs": [
    {
     "data": {
      "text/plain": [
       "array([[ 6, 12],\n",
       "       [18, 24]])"
      ]
     },
     "execution_count": 49,
     "metadata": {},
     "output_type": "execute_result"
    }
   ],
   "source": [
    "A = np.array([[1, 2], [3, 4]])\n",
    "B = np.array([[5, 10], [15, 20]])\n",
    "C = np.array([[2, 4, 6], [8, 10, 12]])\n",
    "\n",
    "A+B"
   ]
  },
  {
   "cell_type": "markdown",
   "id": "8582e189",
   "metadata": {},
   "source": [
    "### TD: "
   ]
  },
  {
   "cell_type": "code",
   "execution_count": 50,
   "id": "d56baa34",
   "metadata": {},
   "outputs": [
    {
     "data": {
      "text/plain": [
       "[[1800, 21, 0],\n",
       " [1500, 54, 2],\n",
       " [2200, 28, 3],\n",
       " [3000, 37, 1],\n",
       " [2172, 37, 2],\n",
       " [5000, 32, 0],\n",
       " [1400, 23, 0],\n",
       " [1200, 25, 1],\n",
       " [1100, 19, 0],\n",
       " [1300, 31, 2]]"
      ]
     },
     "metadata": {},
     "output_type": "display_data"
    }
   ],
   "source": [
    "hugo = [1800, 21, 0]\n",
    "richard = [1500, 54, 2]\n",
    "emilie = [2200, 28, 3]\n",
    "pierre = [3000, 37, 1]\n",
    "paul = [2172, 37, 2]\n",
    "deborah = [5000, 32, 0]\n",
    "yohann = [1400, 23, 0]\n",
    "anne = [1200, 25, 1]\n",
    "thibault = [1100, 19, 0]\n",
    "emmanuel = [1300, 31, 2]\n",
    "\n",
    "tableau = [hugo, richard, emilie, pierre, paul, deborah,\n",
    "           yohann, anne, thibault, emmanuel]\n",
    "\n",
    "display(tableau)"
   ]
  },
  {
   "cell_type": "markdown",
   "id": "a082e1b2",
   "metadata": {},
   "source": [
    "A partir de cette liste, créez un array que vous nommerez `data` : "
   ]
  },
  {
   "cell_type": "code",
   "execution_count": 52,
   "id": "7dda079d",
   "metadata": {},
   "outputs": [
    {
     "data": {
      "text/plain": [
       "array([[1800,   21,    0],\n",
       "       [1500,   54,    2],\n",
       "       [2200,   28,    3],\n",
       "       [3000,   37,    1],\n",
       "       [2172,   37,    2],\n",
       "       [5000,   32,    0],\n",
       "       [1400,   23,    0],\n",
       "       [1200,   25,    1],\n",
       "       [1100,   19,    0],\n",
       "       [1300,   31,    2]])"
      ]
     },
     "metadata": {},
     "output_type": "display_data"
    }
   ],
   "source": [
    "data = np.array(tableau)\n",
    "display(data)"
   ]
  },
  {
   "cell_type": "markdown",
   "id": "ef2f3b0a",
   "metadata": {},
   "source": [
    "Paul souhaiterait contracter un prêt immobilier :\n",
    "- affichez les informations qui lui sont relatives. Pour rappel, Paul correspond à la 5ème ligne de nos données\n",
    "- calculez ses mensualités maximales, en sachant que le taux d'endettement maximum est de 35% (il ne pourra donc pas rembourser par mois plus de 35% de son revenu)."
   ]
  },
  {
   "cell_type": "code",
   "execution_count": 53,
   "id": "c1e4a6f9",
   "metadata": {},
   "outputs": [
    {
     "name": "stdout",
     "output_type": "stream",
     "text": [
      "Informations de Paul :\n",
      "[2172   37    2]\n",
      "-\n",
      "Ses mensualités maximales sont de : 760.2 €\n"
     ]
    }
   ],
   "source": [
    "print(\"Informations de Paul :\")\n",
    "print(data[4, :])\n",
    "print(\"-\")\n",
    "print(\"Ses mensualités maximales sont de :\", round(data[4,0]*0.35, 2), \"€\")"
   ]
  },
  {
   "cell_type": "markdown",
   "id": "1a187ce7",
   "metadata": {},
   "source": [
    "*Paul étant notre 5ème client, l'indice pour accéder aux éléments le concernant est donc 4. Dans un premier temps, on souhaite accéder à toutes ses informations (toutes ses variables) : nous pouvons donc utiliser l'opérateur `:`. Ensuite, pour faire le calcule à partir de ses revenus, on accéder uniquement à la colonne correspondante*\n",
    "\n",
    "Un nouveau client vient d'arriver, dont les informations sont les suivantes : "
   ]
  },
  {
   "cell_type": "code",
   "execution_count": 54,
   "id": "fa3fdfc8",
   "metadata": {},
   "outputs": [],
   "source": [
    "louise = [1900, 31, 1]"
   ]
  },
  {
   "cell_type": "markdown",
   "id": "ec06a5f1",
   "metadata": {},
   "source": [
    "Ajoutez ces informations à la suite de votre array "
   ]
  },
  {
   "cell_type": "code",
   "execution_count": 55,
   "id": "5dcd80ac",
   "metadata": {},
   "outputs": [],
   "source": [
    "data = np.vstack((data, louise))"
   ]
  },
  {
   "cell_type": "markdown",
   "id": "9acd05bd",
   "metadata": {},
   "source": [
    "Stockez enfin l'ensemble des informations de salaire de notre clientèle dans une variable `revenus` :"
   ]
  },
  {
   "cell_type": "code",
   "execution_count": 56,
   "id": "d02fcb59",
   "metadata": {},
   "outputs": [
    {
     "name": "stdout",
     "output_type": "stream",
     "text": [
      "[1800 1500 2200 3000 2172 5000 1400 1200 1100 1300 1900]\n"
     ]
    }
   ],
   "source": [
    "revenus = data[:, 0]\n",
    "print(revenus)"
   ]
  },
  {
   "cell_type": "code",
   "execution_count": 57,
   "id": "275948cf",
   "metadata": {},
   "outputs": [
    {
     "name": "stdout",
     "output_type": "stream",
     "text": [
      "[9.  9.5]\n"
     ]
    }
   ],
   "source": [
    "a = np.linspace(5, 10, 11)\n",
    "print(a[-3:-1])"
   ]
  },
  {
   "cell_type": "code",
   "execution_count": 58,
   "id": "8d217931",
   "metadata": {},
   "outputs": [
    {
     "data": {
      "text/plain": [
       "array([ 6.,  8., 10.])"
      ]
     },
     "execution_count": 58,
     "metadata": {},
     "output_type": "execute_result"
    }
   ],
   "source": [
    "a[a % 2 == 0]"
   ]
  },
  {
   "cell_type": "code",
   "execution_count": 62,
   "id": "b1a493ae",
   "metadata": {},
   "outputs": [
    {
     "data": {
      "text/plain": [
       "array([[[ 1,  2],\n",
       "        [ 4,  5]],\n",
       "\n",
       "       [[ 6,  7],\n",
       "        [ 8,  9]],\n",
       "\n",
       "       [[10, 11],\n",
       "        [12, 13]]])"
      ]
     },
     "metadata": {},
     "output_type": "display_data"
    }
   ],
   "source": [
    "b = np.array([[[1, 2],[4, 5]],\n",
    "        [[6, 7],[8, 9]],\n",
    "        [[10, 11],[12, 13]]])\n",
    "\n",
    "display(b)"
   ]
  },
  {
   "cell_type": "code",
   "execution_count": 63,
   "id": "97a6676e",
   "metadata": {},
   "outputs": [
    {
     "data": {
      "text/plain": [
       "(3, 2, 2)"
      ]
     },
     "metadata": {},
     "output_type": "display_data"
    }
   ],
   "source": [
    "display(b.shape)"
   ]
  },
  {
   "cell_type": "code",
   "execution_count": 65,
   "id": "a6b068ac",
   "metadata": {},
   "outputs": [
    {
     "data": {
      "text/plain": [
       "(4, 1, 3)"
      ]
     },
     "metadata": {},
     "output_type": "display_data"
    }
   ],
   "source": [
    "b = b.reshape([4,1,3])\n",
    "display(b.shape)"
   ]
  },
  {
   "cell_type": "code",
   "execution_count": 71,
   "id": "2245ae0b",
   "metadata": {},
   "outputs": [
    {
     "data": {
      "text/plain": [
       "array([[10, 11],\n",
       "       [12, 13]])"
      ]
     },
     "metadata": {},
     "output_type": "display_data"
    }
   ],
   "source": [
    "b = np.array([[[1, 2],[4, 5]],\n",
    "        [[6, 7],[8, 9]],\n",
    "        [[10, 11],[12, 13]]])\n",
    "\n",
    "display(b[2, :,:])"
   ]
  },
  {
   "cell_type": "code",
   "execution_count": 73,
   "id": "ed1ad8d6",
   "metadata": {},
   "outputs": [
    {
     "data": {
      "text/plain": [
       "array([0, 1, 2, 3, 4, 5, 6, 7])"
      ]
     },
     "metadata": {},
     "output_type": "display_data"
    }
   ],
   "source": [
    "display(np.arange(0,8))"
   ]
  },
  {
   "cell_type": "code",
   "execution_count": null,
   "id": "d11feb6d",
   "metadata": {},
   "outputs": [],
   "source": []
  }
 ],
 "metadata": {
  "kernelspec": {
   "display_name": "Python 3 (ipykernel)",
   "language": "python",
   "name": "python3"
  },
  "language_info": {
   "codemirror_mode": {
    "name": "ipython",
    "version": 3
   },
   "file_extension": ".py",
   "mimetype": "text/x-python",
   "name": "python",
   "nbconvert_exporter": "python",
   "pygments_lexer": "ipython3",
   "version": "3.9.7"
  }
 },
 "nbformat": 4,
 "nbformat_minor": 5
}
