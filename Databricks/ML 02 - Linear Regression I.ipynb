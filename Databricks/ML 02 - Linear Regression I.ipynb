{
 "cells": [
  {
   "cell_type": "markdown",
   "id": "59743483",
   "metadata": {},
   "source": [
    "# Regression: Predicting Rental Price\n",
    "\n",
    "In this notebook, we will use the dataset we cleansed in the previous lab to predict Airbnb rental prices in San Francisco.\n",
    "\n",
    "## In this lesson you:\n",
    " - Use the python to build a linear regression model\n",
    " - Identify the differences between estimators and transformers"
   ]
  },
  {
   "cell_type": "code",
   "execution_count": 1,
   "id": "a5ce402b",
   "metadata": {},
   "outputs": [],
   "source": [
    "# On importe les librairies dont on aura besoin pour ce tp\n",
    "import numpy as np\n",
    "import pandas as pd\n",
    "import matplotlib.pyplot as plt\n",
    "from sklearn.model_selection import train_test_split\n",
    "# cartographie\n",
    "import folium\n",
    "from folium import plugins\n",
    "from folium.plugins import HeatMap\n",
    "import geopandas\n",
    "\n",
    "Output_path = 'C:/Users/Thierno Barry/Documents/Machine Learning/00.data/output/'\n",
    "Iutput_path = 'C:/Users/Thierno Barry/Documents/Machine Learning/00.data/input/'"
   ]
  },
  {
   "cell_type": "code",
   "execution_count": 2,
   "id": "9d4a0a5e",
   "metadata": {},
   "outputs": [],
   "source": [
    "file_path = Iutput_path+\"sf-listings-2019-03-06-clean_delta.csv\"\n",
    "airbnb_df = pd.read_csv(file_path)"
   ]
  },
  {
   "cell_type": "markdown",
   "id": "d3e6a134",
   "metadata": {},
   "source": [
    "## Train/Test Split\n",
    "\n",
    "![](https://files.training.databricks.com/images/301/TrainTestSplit.png)\n",
    "\n",
    "**Question**: Why is it necessary to set a seed? What happens if I change my cluster configuration?"
   ]
  },
  {
   "cell_type": "code",
   "execution_count": 70,
   "id": "97b5937d",
   "metadata": {},
   "outputs": [
    {
     "data": {
      "text/plain": [
       "5716"
      ]
     },
     "metadata": {},
     "output_type": "display_data"
    },
    {
     "data": {
      "text/plain": [
       "1430"
      ]
     },
     "metadata": {},
     "output_type": "display_data"
    }
   ],
   "source": [
    "train_df, test_df = train_test_split(airbnb_df, test_size=0.2, random_state=42)\n",
    "display(train_df.shape[0])\n",
    "display(test_df.shape[0])"
   ]
  },
  {
   "cell_type": "markdown",
   "id": "605b701b",
   "metadata": {},
   "source": [
    "Let's change the # of partitions, and see if we get the same number of data points in our training set."
   ]
  },
  {
   "cell_type": "code",
   "execution_count": 71,
   "id": "36b1403a",
   "metadata": {},
   "outputs": [],
   "source": [
    "# Sélection aléatoire de 80% des données pour l'entraînement\n",
    "#train_df = airbnb_df.sample(frac=0.8, random_state=42)\n",
    "\n",
    "# Suppression des lignes sélectionnées pour obtenir le DataFrame de test\n",
    "#test_df = airbnb_df.drop(train_df.index)\n",
    "\n",
    "# Réinitialisation des index pour le DataFrame de train\n",
    "#train_df = train_df.reset_index(drop=True)\n",
    "\n",
    "#print(train_df.shape[0])"
   ]
  },
  {
   "cell_type": "markdown",
   "id": "8c318fa6",
   "metadata": {},
   "source": [
    "## Linear Regression\n",
    "\n",
    "We are going to build a very simple model predicting **`price`** just given the number of **`bedrooms`**.\n",
    "\n",
    "**Question**: What are some assumptions of the linear regression model?"
   ]
  },
  {
   "cell_type": "code",
   "execution_count": 72,
   "id": "df9ab630",
   "metadata": {},
   "outputs": [
    {
     "data": {
      "text/html": [
       "<div>\n",
       "<style scoped>\n",
       "    .dataframe tbody tr th:only-of-type {\n",
       "        vertical-align: middle;\n",
       "    }\n",
       "\n",
       "    .dataframe tbody tr th {\n",
       "        vertical-align: top;\n",
       "    }\n",
       "\n",
       "    .dataframe thead th {\n",
       "        text-align: right;\n",
       "    }\n",
       "</style>\n",
       "<table border=\"1\" class=\"dataframe\">\n",
       "  <thead>\n",
       "    <tr style=\"text-align: right;\">\n",
       "      <th></th>\n",
       "      <th>price</th>\n",
       "      <th>bedrooms</th>\n",
       "    </tr>\n",
       "  </thead>\n",
       "  <tbody>\n",
       "    <tr>\n",
       "      <th>59</th>\n",
       "      <td>119</td>\n",
       "      <td>1</td>\n",
       "    </tr>\n",
       "    <tr>\n",
       "      <th>3717</th>\n",
       "      <td>500</td>\n",
       "      <td>2</td>\n",
       "    </tr>\n",
       "    <tr>\n",
       "      <th>787</th>\n",
       "      <td>190</td>\n",
       "      <td>1</td>\n",
       "    </tr>\n",
       "    <tr>\n",
       "      <th>2540</th>\n",
       "      <td>265</td>\n",
       "      <td>3</td>\n",
       "    </tr>\n",
       "    <tr>\n",
       "      <th>6225</th>\n",
       "      <td>191</td>\n",
       "      <td>1</td>\n",
       "    </tr>\n",
       "    <tr>\n",
       "      <th>...</th>\n",
       "      <td>...</td>\n",
       "      <td>...</td>\n",
       "    </tr>\n",
       "    <tr>\n",
       "      <th>3772</th>\n",
       "      <td>98</td>\n",
       "      <td>1</td>\n",
       "    </tr>\n",
       "    <tr>\n",
       "      <th>5191</th>\n",
       "      <td>110</td>\n",
       "      <td>1</td>\n",
       "    </tr>\n",
       "    <tr>\n",
       "      <th>5226</th>\n",
       "      <td>495</td>\n",
       "      <td>4</td>\n",
       "    </tr>\n",
       "    <tr>\n",
       "      <th>5390</th>\n",
       "      <td>149</td>\n",
       "      <td>1</td>\n",
       "    </tr>\n",
       "    <tr>\n",
       "      <th>860</th>\n",
       "      <td>164</td>\n",
       "      <td>1</td>\n",
       "    </tr>\n",
       "  </tbody>\n",
       "</table>\n",
       "<p>5716 rows × 2 columns</p>\n",
       "</div>"
      ],
      "text/plain": [
       "      price  bedrooms\n",
       "59      119         1\n",
       "3717    500         2\n",
       "787     190         1\n",
       "2540    265         3\n",
       "6225    191         1\n",
       "...     ...       ...\n",
       "3772     98         1\n",
       "5191    110         1\n",
       "5226    495         4\n",
       "5390    149         1\n",
       "860     164         1\n",
       "\n",
       "[5716 rows x 2 columns]"
      ]
     },
     "metadata": {},
     "output_type": "display_data"
    }
   ],
   "source": [
    "display(train_df[[\"price\", \"bedrooms\"]])"
   ]
  },
  {
   "cell_type": "code",
   "execution_count": 73,
   "id": "add66175",
   "metadata": {},
   "outputs": [
    {
     "data": {
      "text/plain": [
       "Text(0, 0.5, 'bedrooms')"
      ]
     },
     "execution_count": 73,
     "metadata": {},
     "output_type": "execute_result"
    },
    {
     "data": {
      "image/png": "[encoded data removed]",
      "text/plain": [
       "<Figure size 432x288 with 1 Axes>"
      ]
     },
     "metadata": {
      "needs_background": "light"
     },
     "output_type": "display_data"
    }
   ],
   "source": [
    "plt.scatter(train_df['price'], train_df['bedrooms'], c = 'blue')\n",
    "plt.xlabel('price')\n",
    "plt.ylabel('bedrooms')"
   ]
  },
  {
   "cell_type": "code",
   "execution_count": 74,
   "id": "3dedff7f",
   "metadata": {},
   "outputs": [
    {
     "data": {
      "text/html": [
       "<div>\n",
       "<style scoped>\n",
       "    .dataframe tbody tr th:only-of-type {\n",
       "        vertical-align: middle;\n",
       "    }\n",
       "\n",
       "    .dataframe tbody tr th {\n",
       "        vertical-align: top;\n",
       "    }\n",
       "\n",
       "    .dataframe thead th {\n",
       "        text-align: right;\n",
       "    }\n",
       "</style>\n",
       "<table border=\"1\" class=\"dataframe\">\n",
       "  <thead>\n",
       "    <tr style=\"text-align: right;\">\n",
       "      <th></th>\n",
       "      <th>price</th>\n",
       "      <th>bedrooms</th>\n",
       "    </tr>\n",
       "  </thead>\n",
       "  <tbody>\n",
       "    <tr>\n",
       "      <th>count</th>\n",
       "      <td>5716.000000</td>\n",
       "      <td>5716.000000</td>\n",
       "    </tr>\n",
       "    <tr>\n",
       "      <th>mean</th>\n",
       "      <td>214.282015</td>\n",
       "      <td>1.346046</td>\n",
       "    </tr>\n",
       "    <tr>\n",
       "      <th>std</th>\n",
       "      <td>316.255794</td>\n",
       "      <td>0.936246</td>\n",
       "    </tr>\n",
       "    <tr>\n",
       "      <th>min</th>\n",
       "      <td>10.000000</td>\n",
       "      <td>0.000000</td>\n",
       "    </tr>\n",
       "    <tr>\n",
       "      <th>25%</th>\n",
       "      <td>100.000000</td>\n",
       "      <td>1.000000</td>\n",
       "    </tr>\n",
       "    <tr>\n",
       "      <th>50%</th>\n",
       "      <td>150.000000</td>\n",
       "      <td>1.000000</td>\n",
       "    </tr>\n",
       "    <tr>\n",
       "      <th>75%</th>\n",
       "      <td>235.000000</td>\n",
       "      <td>2.000000</td>\n",
       "    </tr>\n",
       "    <tr>\n",
       "      <th>max</th>\n",
       "      <td>10000.000000</td>\n",
       "      <td>14.000000</td>\n",
       "    </tr>\n",
       "  </tbody>\n",
       "</table>\n",
       "</div>"
      ],
      "text/plain": [
       "              price     bedrooms\n",
       "count   5716.000000  5716.000000\n",
       "mean     214.282015     1.346046\n",
       "std      316.255794     0.936246\n",
       "min       10.000000     0.000000\n",
       "25%      100.000000     1.000000\n",
       "50%      150.000000     1.000000\n",
       "75%      235.000000     2.000000\n",
       "max    10000.000000    14.000000"
      ]
     },
     "metadata": {},
     "output_type": "display_data"
    }
   ],
   "source": [
    "display(train_df[[\"price\", \"bedrooms\"]].describe())"
   ]
  },
  {
   "cell_type": "code",
   "execution_count": 75,
   "id": "6e42b335",
   "metadata": {},
   "outputs": [
    {
     "data": {
      "text/html": [
       "<div>\n",
       "<style scoped>\n",
       "    .dataframe tbody tr th:only-of-type {\n",
       "        vertical-align: middle;\n",
       "    }\n",
       "\n",
       "    .dataframe tbody tr th {\n",
       "        vertical-align: top;\n",
       "    }\n",
       "\n",
       "    .dataframe thead th {\n",
       "        text-align: right;\n",
       "    }\n",
       "</style>\n",
       "<table border=\"1\" class=\"dataframe\">\n",
       "  <thead>\n",
       "    <tr style=\"text-align: right;\">\n",
       "      <th></th>\n",
       "      <th>host_is_superhost</th>\n",
       "      <th>cancellation_policy</th>\n",
       "      <th>instant_bookable</th>\n",
       "      <th>host_total_listings_count</th>\n",
       "      <th>neighbourhood_cleansed</th>\n",
       "      <th>latitude</th>\n",
       "      <th>longitude</th>\n",
       "      <th>property_type</th>\n",
       "      <th>room_type</th>\n",
       "      <th>accommodates</th>\n",
       "      <th>...</th>\n",
       "      <th>bedrooms_na</th>\n",
       "      <th>bathrooms_na</th>\n",
       "      <th>beds_na</th>\n",
       "      <th>review_scores_rating_na</th>\n",
       "      <th>review_scores_accuracy_na</th>\n",
       "      <th>review_scores_cleanliness_na</th>\n",
       "      <th>review_scores_checkin_na</th>\n",
       "      <th>review_scores_communication_na</th>\n",
       "      <th>review_scores_location_na</th>\n",
       "      <th>review_scores_value_na</th>\n",
       "    </tr>\n",
       "  </thead>\n",
       "  <tbody>\n",
       "    <tr>\n",
       "      <th>59</th>\n",
       "      <td>t</td>\n",
       "      <td>moderate</td>\n",
       "      <td>t</td>\n",
       "      <td>2</td>\n",
       "      <td>Mission</td>\n",
       "      <td>37.74994</td>\n",
       "      <td>-122.41452</td>\n",
       "      <td>House</td>\n",
       "      <td>Private room</td>\n",
       "      <td>3</td>\n",
       "      <td>...</td>\n",
       "      <td>0</td>\n",
       "      <td>0</td>\n",
       "      <td>0</td>\n",
       "      <td>0</td>\n",
       "      <td>0</td>\n",
       "      <td>0</td>\n",
       "      <td>0</td>\n",
       "      <td>0</td>\n",
       "      <td>0</td>\n",
       "      <td>0</td>\n",
       "    </tr>\n",
       "    <tr>\n",
       "      <th>3717</th>\n",
       "      <td>t</td>\n",
       "      <td>moderate</td>\n",
       "      <td>f</td>\n",
       "      <td>2</td>\n",
       "      <td>Castro/Upper Market</td>\n",
       "      <td>37.76159</td>\n",
       "      <td>-122.44491</td>\n",
       "      <td>Condominium</td>\n",
       "      <td>Entire home/apt</td>\n",
       "      <td>4</td>\n",
       "      <td>...</td>\n",
       "      <td>0</td>\n",
       "      <td>0</td>\n",
       "      <td>0</td>\n",
       "      <td>1</td>\n",
       "      <td>1</td>\n",
       "      <td>1</td>\n",
       "      <td>1</td>\n",
       "      <td>1</td>\n",
       "      <td>1</td>\n",
       "      <td>1</td>\n",
       "    </tr>\n",
       "    <tr>\n",
       "      <th>787</th>\n",
       "      <td>t</td>\n",
       "      <td>moderate</td>\n",
       "      <td>f</td>\n",
       "      <td>3</td>\n",
       "      <td>Mission</td>\n",
       "      <td>37.75011</td>\n",
       "      <td>-122.41680</td>\n",
       "      <td>House</td>\n",
       "      <td>Private room</td>\n",
       "      <td>2</td>\n",
       "      <td>...</td>\n",
       "      <td>0</td>\n",
       "      <td>0</td>\n",
       "      <td>0</td>\n",
       "      <td>0</td>\n",
       "      <td>0</td>\n",
       "      <td>0</td>\n",
       "      <td>0</td>\n",
       "      <td>0</td>\n",
       "      <td>0</td>\n",
       "      <td>0</td>\n",
       "    </tr>\n",
       "    <tr>\n",
       "      <th>2540</th>\n",
       "      <td>f</td>\n",
       "      <td>strict_14_with_grace_period</td>\n",
       "      <td>f</td>\n",
       "      <td>1</td>\n",
       "      <td>Marina</td>\n",
       "      <td>37.80031</td>\n",
       "      <td>-122.43142</td>\n",
       "      <td>Serviced apartment</td>\n",
       "      <td>Entire home/apt</td>\n",
       "      <td>6</td>\n",
       "      <td>...</td>\n",
       "      <td>0</td>\n",
       "      <td>0</td>\n",
       "      <td>0</td>\n",
       "      <td>0</td>\n",
       "      <td>0</td>\n",
       "      <td>0</td>\n",
       "      <td>0</td>\n",
       "      <td>0</td>\n",
       "      <td>0</td>\n",
       "      <td>0</td>\n",
       "    </tr>\n",
       "    <tr>\n",
       "      <th>6225</th>\n",
       "      <td>f</td>\n",
       "      <td>strict_14_with_grace_period</td>\n",
       "      <td>f</td>\n",
       "      <td>33</td>\n",
       "      <td>Nob Hill</td>\n",
       "      <td>37.79669</td>\n",
       "      <td>-122.41223</td>\n",
       "      <td>Condominium</td>\n",
       "      <td>Entire home/apt</td>\n",
       "      <td>2</td>\n",
       "      <td>...</td>\n",
       "      <td>0</td>\n",
       "      <td>0</td>\n",
       "      <td>0</td>\n",
       "      <td>1</td>\n",
       "      <td>1</td>\n",
       "      <td>1</td>\n",
       "      <td>1</td>\n",
       "      <td>1</td>\n",
       "      <td>1</td>\n",
       "      <td>1</td>\n",
       "    </tr>\n",
       "    <tr>\n",
       "      <th>...</th>\n",
       "      <td>...</td>\n",
       "      <td>...</td>\n",
       "      <td>...</td>\n",
       "      <td>...</td>\n",
       "      <td>...</td>\n",
       "      <td>...</td>\n",
       "      <td>...</td>\n",
       "      <td>...</td>\n",
       "      <td>...</td>\n",
       "      <td>...</td>\n",
       "      <td>...</td>\n",
       "      <td>...</td>\n",
       "      <td>...</td>\n",
       "      <td>...</td>\n",
       "      <td>...</td>\n",
       "      <td>...</td>\n",
       "      <td>...</td>\n",
       "      <td>...</td>\n",
       "      <td>...</td>\n",
       "      <td>...</td>\n",
       "      <td>...</td>\n",
       "    </tr>\n",
       "    <tr>\n",
       "      <th>3772</th>\n",
       "      <td>t</td>\n",
       "      <td>moderate</td>\n",
       "      <td>f</td>\n",
       "      <td>2</td>\n",
       "      <td>Noe Valley</td>\n",
       "      <td>37.74833</td>\n",
       "      <td>-122.42501</td>\n",
       "      <td>House</td>\n",
       "      <td>Private room</td>\n",
       "      <td>2</td>\n",
       "      <td>...</td>\n",
       "      <td>0</td>\n",
       "      <td>0</td>\n",
       "      <td>0</td>\n",
       "      <td>0</td>\n",
       "      <td>0</td>\n",
       "      <td>0</td>\n",
       "      <td>0</td>\n",
       "      <td>0</td>\n",
       "      <td>0</td>\n",
       "      <td>0</td>\n",
       "    </tr>\n",
       "    <tr>\n",
       "      <th>5191</th>\n",
       "      <td>t</td>\n",
       "      <td>strict_14_with_grace_period</td>\n",
       "      <td>f</td>\n",
       "      <td>3</td>\n",
       "      <td>Western Addition</td>\n",
       "      <td>37.77729</td>\n",
       "      <td>-122.43421</td>\n",
       "      <td>Townhouse</td>\n",
       "      <td>Private room</td>\n",
       "      <td>2</td>\n",
       "      <td>...</td>\n",
       "      <td>0</td>\n",
       "      <td>0</td>\n",
       "      <td>0</td>\n",
       "      <td>0</td>\n",
       "      <td>0</td>\n",
       "      <td>0</td>\n",
       "      <td>0</td>\n",
       "      <td>0</td>\n",
       "      <td>0</td>\n",
       "      <td>0</td>\n",
       "    </tr>\n",
       "    <tr>\n",
       "      <th>5226</th>\n",
       "      <td>t</td>\n",
       "      <td>strict_14_with_grace_period</td>\n",
       "      <td>f</td>\n",
       "      <td>3</td>\n",
       "      <td>Outer Sunset</td>\n",
       "      <td>37.74984</td>\n",
       "      <td>-122.50852</td>\n",
       "      <td>House</td>\n",
       "      <td>Entire home/apt</td>\n",
       "      <td>11</td>\n",
       "      <td>...</td>\n",
       "      <td>0</td>\n",
       "      <td>0</td>\n",
       "      <td>0</td>\n",
       "      <td>0</td>\n",
       "      <td>0</td>\n",
       "      <td>0</td>\n",
       "      <td>0</td>\n",
       "      <td>0</td>\n",
       "      <td>0</td>\n",
       "      <td>0</td>\n",
       "    </tr>\n",
       "    <tr>\n",
       "      <th>5390</th>\n",
       "      <td>t</td>\n",
       "      <td>moderate</td>\n",
       "      <td>t</td>\n",
       "      <td>2</td>\n",
       "      <td>Inner Richmond</td>\n",
       "      <td>37.77717</td>\n",
       "      <td>-122.46757</td>\n",
       "      <td>House</td>\n",
       "      <td>Private room</td>\n",
       "      <td>2</td>\n",
       "      <td>...</td>\n",
       "      <td>0</td>\n",
       "      <td>0</td>\n",
       "      <td>0</td>\n",
       "      <td>0</td>\n",
       "      <td>0</td>\n",
       "      <td>0</td>\n",
       "      <td>0</td>\n",
       "      <td>0</td>\n",
       "      <td>0</td>\n",
       "      <td>0</td>\n",
       "    </tr>\n",
       "    <tr>\n",
       "      <th>860</th>\n",
       "      <td>f</td>\n",
       "      <td>strict_14_with_grace_period</td>\n",
       "      <td>t</td>\n",
       "      <td>165</td>\n",
       "      <td>Western Addition</td>\n",
       "      <td>37.77070</td>\n",
       "      <td>-122.42735</td>\n",
       "      <td>Apartment</td>\n",
       "      <td>Entire home/apt</td>\n",
       "      <td>2</td>\n",
       "      <td>...</td>\n",
       "      <td>0</td>\n",
       "      <td>0</td>\n",
       "      <td>0</td>\n",
       "      <td>1</td>\n",
       "      <td>1</td>\n",
       "      <td>1</td>\n",
       "      <td>1</td>\n",
       "      <td>1</td>\n",
       "      <td>1</td>\n",
       "      <td>1</td>\n",
       "    </tr>\n",
       "  </tbody>\n",
       "</table>\n",
       "<p>5716 rows × 34 columns</p>\n",
       "</div>"
      ],
      "text/plain": [
       "     host_is_superhost          cancellation_policy instant_bookable  \\\n",
       "59                   t                     moderate                t   \n",
       "3717                 t                     moderate                f   \n",
       "787                  t                     moderate                f   \n",
       "2540                 f  strict_14_with_grace_period                f   \n",
       "6225                 f  strict_14_with_grace_period                f   \n",
       "...                ...                          ...              ...   \n",
       "3772                 t                     moderate                f   \n",
       "5191                 t  strict_14_with_grace_period                f   \n",
       "5226                 t  strict_14_with_grace_period                f   \n",
       "5390                 t                     moderate                t   \n",
       "860                  f  strict_14_with_grace_period                t   \n",
       "\n",
       "      host_total_listings_count neighbourhood_cleansed  latitude  longitude  \\\n",
       "59                            2                Mission  37.74994 -122.41452   \n",
       "3717                          2    Castro/Upper Market  37.76159 -122.44491   \n",
       "787                           3                Mission  37.75011 -122.41680   \n",
       "2540                          1                 Marina  37.80031 -122.43142   \n",
       "6225                         33               Nob Hill  37.79669 -122.41223   \n",
       "...                         ...                    ...       ...        ...   \n",
       "3772                          2             Noe Valley  37.74833 -122.42501   \n",
       "5191                          3       Western Addition  37.77729 -122.43421   \n",
       "5226                          3           Outer Sunset  37.74984 -122.50852   \n",
       "5390                          2         Inner Richmond  37.77717 -122.46757   \n",
       "860                         165       Western Addition  37.77070 -122.42735   \n",
       "\n",
       "           property_type        room_type  accommodates  ...  bedrooms_na  \\\n",
       "59                 House     Private room             3  ...            0   \n",
       "3717         Condominium  Entire home/apt             4  ...            0   \n",
       "787                House     Private room             2  ...            0   \n",
       "2540  Serviced apartment  Entire home/apt             6  ...            0   \n",
       "6225         Condominium  Entire home/apt             2  ...            0   \n",
       "...                  ...              ...           ...  ...          ...   \n",
       "3772               House     Private room             2  ...            0   \n",
       "5191           Townhouse     Private room             2  ...            0   \n",
       "5226               House  Entire home/apt            11  ...            0   \n",
       "5390               House     Private room             2  ...            0   \n",
       "860            Apartment  Entire home/apt             2  ...            0   \n",
       "\n",
       "      bathrooms_na  beds_na review_scores_rating_na  \\\n",
       "59               0        0                       0   \n",
       "3717             0        0                       1   \n",
       "787              0        0                       0   \n",
       "2540             0        0                       0   \n",
       "6225             0        0                       1   \n",
       "...            ...      ...                     ...   \n",
       "3772             0        0                       0   \n",
       "5191             0        0                       0   \n",
       "5226             0        0                       0   \n",
       "5390             0        0                       0   \n",
       "860              0        0                       1   \n",
       "\n",
       "      review_scores_accuracy_na  review_scores_cleanliness_na  \\\n",
       "59                            0                             0   \n",
       "3717                          1                             1   \n",
       "787                           0                             0   \n",
       "2540                          0                             0   \n",
       "6225                          1                             1   \n",
       "...                         ...                           ...   \n",
       "3772                          0                             0   \n",
       "5191                          0                             0   \n",
       "5226                          0                             0   \n",
       "5390                          0                             0   \n",
       "860                           1                             1   \n",
       "\n",
       "      review_scores_checkin_na  review_scores_communication_na  \\\n",
       "59                           0                               0   \n",
       "3717                         1                               1   \n",
       "787                          0                               0   \n",
       "2540                         0                               0   \n",
       "6225                         1                               1   \n",
       "...                        ...                             ...   \n",
       "3772                         0                               0   \n",
       "5191                         0                               0   \n",
       "5226                         0                               0   \n",
       "5390                         0                               0   \n",
       "860                          1                               1   \n",
       "\n",
       "      review_scores_location_na  review_scores_value_na  \n",
       "59                            0                       0  \n",
       "3717                          1                       1  \n",
       "787                           0                       0  \n",
       "2540                          0                       0  \n",
       "6225                          1                       1  \n",
       "...                         ...                     ...  \n",
       "3772                          0                       0  \n",
       "5191                          0                       0  \n",
       "5226                          0                       0  \n",
       "5390                          0                       0  \n",
       "860                           1                       1  \n",
       "\n",
       "[5716 rows x 34 columns]"
      ]
     },
     "metadata": {},
     "output_type": "display_data"
    }
   ],
   "source": [
    "display(train_df)"
   ]
  },
  {
   "cell_type": "markdown",
   "id": "94ae3846",
   "metadata": {},
   "source": [
    "There does appear to be some outliers in our dataset for the price ($10,000 a night??). Just keep this in mind when we are building our models.\n",
    "\n",
    "We will use <a href=\"https://spark.apache.org/docs/latest/api/python/reference/api/pyspark.ml.regression.LinearRegression.html?highlight=linearregression#pyspark.ml.regression.LinearRegression\" target=\"_blank\">LinearRegression</a> to build our first model.\n",
    "\n",
    "The cell below will fail because the Linear Regression estimator expects a vector of values as input. We will fix that with VectorAssembler below."
   ]
  },
  {
   "cell_type": "code",
   "execution_count": 76,
   "id": "84058e08",
   "metadata": {},
   "outputs": [],
   "source": [
    "from sklearn.linear_model import LinearRegression\n",
    "\n",
    "X_train = train_df[['bedrooms']]\n",
    "y_train = train_df['price']\n",
    "\n",
    "lr = LinearRegression()\n",
    "lr_model = lr.fit(X_train, y_train)"
   ]
  },
  {
   "cell_type": "code",
   "execution_count": 77,
   "id": "f3a51801",
   "metadata": {},
   "outputs": [],
   "source": [
    "vec_train_df = train_df.copy()\n",
    "vec_train_df[\"features\"] = vec_train_df[\"bedrooms\"]"
   ]
  },
  {
   "cell_type": "code",
   "execution_count": 78,
   "id": "db1f56ef",
   "metadata": {},
   "outputs": [],
   "source": [
    "from sklearn.linear_model import LinearRegression\n",
    "from sklearn.preprocessing import PolynomialFeatures\n",
    "\n",
    "X_train = train_df[[\"bedrooms\"]]\n",
    "y_train = train_df[\"price\"]\n",
    "\n",
    "# transformation des features avec polynomial features\n",
    "poly = PolynomialFeatures(degree=1)\n",
    "X_train_poly = poly.fit_transform(X_train)\n",
    "\n",
    "# création et entraînement du modèle\n",
    "lr = LinearRegression()\n",
    "lr_model = lr.fit(X_train_poly, y_train)"
   ]
  },
  {
   "cell_type": "markdown",
   "id": "c959759f",
   "metadata": {},
   "source": [
    "## Inspect the model"
   ]
  },
  {
   "cell_type": "code",
   "execution_count": 79,
   "id": "d2740a1d",
   "metadata": {},
   "outputs": [
    {
     "name": "stdout",
     "output_type": "stream",
     "text": [
      "The formula for the linear regression line is y = 121.43x + 50.83\n"
     ]
    }
   ],
   "source": [
    "X = train_df[\"bedrooms\"]\n",
    "y = train_df[\"price\"]\n",
    "m, b = np.polyfit(X, y, 1)\n",
    "print(f\"The formula for the linear regression line is y = {m:.2f}x + {b:.2f}\")"
   ]
  },
  {
   "cell_type": "code",
   "execution_count": 80,
   "id": "aa2e274b",
   "metadata": {},
   "outputs": [
    {
     "name": "stderr",
     "output_type": "stream",
     "text": [
      "C:\\Users\\THIERN~1\\AppData\\Local\\Temp/ipykernel_226600/1884214726.py:2: UserWarning: color is redundantly defined by the 'color' keyword argument and the fmt string \"ro\" (-> color='r'). The keyword argument will take precedence.\n",
      "  plt.plot(train_df['price'], train_df['bedrooms'], 'ro', markersize=4, c = 'blue')\n"
     ]
    },
    {
     "data": {
      "image/png": "[encoded data removed]",
      "text/plain": [
       "<Figure size 432x288 with 1 Axes>"
      ]
     },
     "metadata": {
      "needs_background": "light"
     },
     "output_type": "display_data"
    }
   ],
   "source": [
    "# On affiche le nuage de points dont on dispose\n",
    "plt.plot(train_df['price'], train_df['bedrooms'], 'ro', markersize=4, c = 'blue')\n",
    "plt.show()"
   ]
  },
  {
   "cell_type": "code",
   "execution_count": 81,
   "id": "9a37c84d",
   "metadata": {},
   "outputs": [],
   "source": [
    "# On décompose le dataset et on le transforme en matrices pour pouvoir effectuer notre calcul\n",
    "X = np.matrix([np.ones(train_df.shape[0]), train_df['bedrooms'].values]).T\n",
    "y = np.matrix(train_df['price']).T"
   ]
  },
  {
   "cell_type": "code",
   "execution_count": 82,
   "id": "5a334a50",
   "metadata": {},
   "outputs": [
    {
     "name": "stdout",
     "output_type": "stream",
     "text": [
      "[[ 50.83267983]\n",
      " [121.42921784]]\n"
     ]
    }
   ],
   "source": [
    "# On effectue le calcul exact du paramètre theta\n",
    "theta = np.linalg.inv(X.T.dot(X)).dot(X.T).dot(y)\n",
    "\n",
    "print(theta)"
   ]
  },
  {
   "cell_type": "code",
   "execution_count": 83,
   "id": "1e33369d",
   "metadata": {},
   "outputs": [
    {
     "name": "stdout",
     "output_type": "stream",
     "text": [
      "The p-value for the slope coefficient is: 0.0000\n"
     ]
    }
   ],
   "source": [
    "from scipy.stats import linregress\n",
    "\n",
    "x = train_df[\"bedrooms\"]\n",
    "y = train_df[\"price\"]\n",
    "\n",
    "slope, intercept, r_value, p_value, std_err = linregress(x, y)\n",
    "\n",
    "print(f\"The p-value for the slope coefficient is: {p_value:.4f}\")\n"
   ]
  },
  {
   "cell_type": "code",
   "execution_count": 84,
   "id": "a3437e88",
   "metadata": {},
   "outputs": [
    {
     "name": "stdout",
     "output_type": "stream",
     "text": [
      "The intercept for the slope coefficient is: 50.8327\n"
     ]
    }
   ],
   "source": [
    "print(f\"The intercept for the slope coefficient is: {intercept:.4f}\")"
   ]
  },
  {
   "cell_type": "code",
   "execution_count": 85,
   "id": "786cbf26",
   "metadata": {},
   "outputs": [
    {
     "name": "stdout",
     "output_type": "stream",
     "text": [
      "The slope coefficient is: 121.4292\n"
     ]
    }
   ],
   "source": [
    "print(f\"The slope coefficient is: {slope:.4f}\")"
   ]
  },
  {
   "cell_type": "markdown",
   "id": "755a372c",
   "metadata": {},
   "source": [
    "## Apply model to test set"
   ]
  },
  {
   "cell_type": "code",
   "execution_count": 94,
   "id": "fafa1438",
   "metadata": {},
   "outputs": [],
   "source": [
    "#X_test = test_df[\"bedrooms\"]\n",
    "#y_test = test_df[\"price\"]\n",
    "#y_pred = lr.predict(X_test.values.reshape(-1, 1))"
   ]
  },
  {
   "cell_type": "code",
   "execution_count": 89,
   "id": "394c366c",
   "metadata": {},
   "outputs": [
    {
     "name": "stdout",
     "output_type": "stream",
     "text": [
      "R2 score : 0.1342515577376775\n",
      "MSE : 73324.07101734044\n",
      "MAE : 102.47721295994386\n"
     ]
    }
   ],
   "source": [
    "# Diviser les données en ensembles d'entraînement et de test\n",
    "X_train, X_test, y_train, y_test = train_test_split(airbnb_df[\"bedrooms\"], airbnb_df[\"price\"], test_size=0.2, random_state=42)\n",
    "\n",
    "# Créer un objet LinearRegression\n",
    "lr = LinearRegression()\n",
    "\n",
    "# Entraîner le modèle sur l'ensemble d'entraînement\n",
    "lr.fit(X_train.values.reshape(-1, 1), y_train)\n",
    "\n",
    "# Faire des prédictions sur l'ensemble de test\n",
    "y_pred = lr.predict(X_test.values.reshape(-1, 1))\n",
    "\n",
    "# Évaluer les performances du modèle\n",
    "print(\"R2 score :\", r2_score(y_test, y_pred))\n",
    "print(\"MSE :\", mean_squared_error(y_test, y_pred))\n",
    "print(\"MAE :\", mean_absolute_error(y_test, y_pred))"
   ]
  },
  {
   "cell_type": "code",
   "execution_count": 90,
   "id": "f3c08a5d",
   "metadata": {},
   "outputs": [
    {
     "data": {
      "text/html": [
       "<div>\n",
       "<style scoped>\n",
       "    .dataframe tbody tr th:only-of-type {\n",
       "        vertical-align: middle;\n",
       "    }\n",
       "\n",
       "    .dataframe tbody tr th {\n",
       "        vertical-align: top;\n",
       "    }\n",
       "\n",
       "    .dataframe thead th {\n",
       "        text-align: right;\n",
       "    }\n",
       "</style>\n",
       "<table border=\"1\" class=\"dataframe\">\n",
       "  <thead>\n",
       "    <tr style=\"text-align: right;\">\n",
       "      <th></th>\n",
       "      <th>bedrooms</th>\n",
       "      <th>price</th>\n",
       "      <th>prediction</th>\n",
       "    </tr>\n",
       "  </thead>\n",
       "  <tbody>\n",
       "    <tr>\n",
       "      <th>4147</th>\n",
       "      <td>1</td>\n",
       "      <td>120</td>\n",
       "      <td>172.261898</td>\n",
       "    </tr>\n",
       "    <tr>\n",
       "      <th>6601</th>\n",
       "      <td>2</td>\n",
       "      <td>315</td>\n",
       "      <td>293.691116</td>\n",
       "    </tr>\n",
       "    <tr>\n",
       "      <th>1859</th>\n",
       "      <td>0</td>\n",
       "      <td>180</td>\n",
       "      <td>50.832680</td>\n",
       "    </tr>\n",
       "    <tr>\n",
       "      <th>3050</th>\n",
       "      <td>1</td>\n",
       "      <td>115</td>\n",
       "      <td>172.261898</td>\n",
       "    </tr>\n",
       "    <tr>\n",
       "      <th>6983</th>\n",
       "      <td>1</td>\n",
       "      <td>109</td>\n",
       "      <td>172.261898</td>\n",
       "    </tr>\n",
       "    <tr>\n",
       "      <th>...</th>\n",
       "      <td>...</td>\n",
       "      <td>...</td>\n",
       "      <td>...</td>\n",
       "    </tr>\n",
       "    <tr>\n",
       "      <th>5642</th>\n",
       "      <td>1</td>\n",
       "      <td>300</td>\n",
       "      <td>172.261898</td>\n",
       "    </tr>\n",
       "    <tr>\n",
       "      <th>1483</th>\n",
       "      <td>1</td>\n",
       "      <td>98</td>\n",
       "      <td>172.261898</td>\n",
       "    </tr>\n",
       "    <tr>\n",
       "      <th>4010</th>\n",
       "      <td>1</td>\n",
       "      <td>140</td>\n",
       "      <td>172.261898</td>\n",
       "    </tr>\n",
       "    <tr>\n",
       "      <th>1488</th>\n",
       "      <td>1</td>\n",
       "      <td>180</td>\n",
       "      <td>172.261898</td>\n",
       "    </tr>\n",
       "    <tr>\n",
       "      <th>577</th>\n",
       "      <td>0</td>\n",
       "      <td>87</td>\n",
       "      <td>50.832680</td>\n",
       "    </tr>\n",
       "  </tbody>\n",
       "</table>\n",
       "<p>1430 rows × 3 columns</p>\n",
       "</div>"
      ],
      "text/plain": [
       "      bedrooms  price  prediction\n",
       "4147         1    120  172.261898\n",
       "6601         2    315  293.691116\n",
       "1859         0    180   50.832680\n",
       "3050         1    115  172.261898\n",
       "6983         1    109  172.261898\n",
       "...        ...    ...         ...\n",
       "5642         1    300  172.261898\n",
       "1483         1     98  172.261898\n",
       "4010         1    140  172.261898\n",
       "1488         1    180  172.261898\n",
       "577          0     87   50.832680\n",
       "\n",
       "[1430 rows x 3 columns]"
      ]
     },
     "metadata": {},
     "output_type": "display_data"
    }
   ],
   "source": [
    "pred_df = pd.DataFrame({\"bedrooms\": X_test, \"price\": y_test, \"prediction\": y_pred})\n",
    "display(pred_df[[\"bedrooms\", \"price\", \"prediction\"]])"
   ]
  },
  {
   "cell_type": "code",
   "execution_count": 91,
   "id": "e7e05591",
   "metadata": {},
   "outputs": [
    {
     "data": {
      "text/html": [
       "<div>\n",
       "<style scoped>\n",
       "    .dataframe tbody tr th:only-of-type {\n",
       "        vertical-align: middle;\n",
       "    }\n",
       "\n",
       "    .dataframe tbody tr th {\n",
       "        vertical-align: top;\n",
       "    }\n",
       "\n",
       "    .dataframe thead th {\n",
       "        text-align: right;\n",
       "    }\n",
       "</style>\n",
       "<table border=\"1\" class=\"dataframe\">\n",
       "  <thead>\n",
       "    <tr style=\"text-align: right;\">\n",
       "      <th></th>\n",
       "      <th>bedrooms</th>\n",
       "      <th>price</th>\n",
       "      <th>prediction</th>\n",
       "    </tr>\n",
       "  </thead>\n",
       "  <tbody>\n",
       "    <tr>\n",
       "      <th>1683</th>\n",
       "      <td>0</td>\n",
       "      <td>86</td>\n",
       "      <td>50.832680</td>\n",
       "    </tr>\n",
       "    <tr>\n",
       "      <th>4921</th>\n",
       "      <td>0</td>\n",
       "      <td>86</td>\n",
       "      <td>50.832680</td>\n",
       "    </tr>\n",
       "    <tr>\n",
       "      <th>1425</th>\n",
       "      <td>0</td>\n",
       "      <td>86</td>\n",
       "      <td>50.832680</td>\n",
       "    </tr>\n",
       "    <tr>\n",
       "      <th>248</th>\n",
       "      <td>1</td>\n",
       "      <td>86</td>\n",
       "      <td>172.261898</td>\n",
       "    </tr>\n",
       "    <tr>\n",
       "      <th>5602</th>\n",
       "      <td>0</td>\n",
       "      <td>86</td>\n",
       "      <td>50.832680</td>\n",
       "    </tr>\n",
       "    <tr>\n",
       "      <th>4564</th>\n",
       "      <td>1</td>\n",
       "      <td>86</td>\n",
       "      <td>172.261898</td>\n",
       "    </tr>\n",
       "  </tbody>\n",
       "</table>\n",
       "</div>"
      ],
      "text/plain": [
       "      bedrooms  price  prediction\n",
       "1683         0     86   50.832680\n",
       "4921         0     86   50.832680\n",
       "1425         0     86   50.832680\n",
       "248          1     86  172.261898\n",
       "5602         0     86   50.832680\n",
       "4564         1     86  172.261898"
      ]
     },
     "metadata": {},
     "output_type": "display_data"
    }
   ],
   "source": [
    "display(pred_df[pred_df['price'] == 86])"
   ]
  },
  {
   "cell_type": "code",
   "execution_count": 92,
   "id": "24c43ac3",
   "metadata": {},
   "outputs": [
    {
     "data": {
      "text/plain": [
       "Text(0, 0.5, 'prediction')"
      ]
     },
     "execution_count": 92,
     "metadata": {},
     "output_type": "execute_result"
    },
    {
     "data": {
      "image/png": "[encoded data removed]",
      "text/plain": [
       "<Figure size 432x288 with 1 Axes>"
      ]
     },
     "metadata": {
      "needs_background": "light"
     },
     "output_type": "display_data"
    }
   ],
   "source": [
    "# On affiche le nuage de points dont on dispose\n",
    "plt.scatter(pred_df['price'], pred_df['prediction'], c = 'blue')\n",
    "plt.xlabel('price')\n",
    "plt.ylabel('prediction')"
   ]
  },
  {
   "cell_type": "code",
   "execution_count": 95,
   "id": "1b24b5a2",
   "metadata": {},
   "outputs": [
    {
     "name": "stdout",
     "output_type": "stream",
     "text": [
      "RMSE is 270.7841779302115\n"
     ]
    }
   ],
   "source": [
    "from sklearn.metrics import mean_squared_error\n",
    "\n",
    "rmse = mean_squared_error(pred_df['price'], pred_df['prediction'], squared=False)\n",
    "print(f\"RMSE is {rmse}\")"
   ]
  },
  {
   "cell_type": "code",
   "execution_count": 97,
   "id": "6963ec2e",
   "metadata": {},
   "outputs": [
    {
     "name": "stdout",
     "output_type": "stream",
     "text": [
      "The R2 for predicting the average price is: 0.1342515577376775\n"
     ]
    }
   ],
   "source": [
    "from sklearn.metrics import r2_score\n",
    "\n",
    "# Calculate R2 for average prediction\n",
    "r2 = r2_score(pred_df['price'], pred_df['prediction'])\n",
    "print(f\"The R2 for predicting the average price is: {r2}\")"
   ]
  },
  {
   "cell_type": "code",
   "execution_count": null,
   "id": "7affafe0",
   "metadata": {},
   "outputs": [],
   "source": []
  }
 ],
 "metadata": {
  "kernelspec": {
   "display_name": "Python 3 (ipykernel)",
   "language": "python",
   "name": "python3"
  },
  "language_info": {
   "codemirror_mode": {
    "name": "ipython",
    "version": 3
   },
   "file_extension": ".py",
   "mimetype": "text/x-python",
   "name": "python",
   "nbconvert_exporter": "python",
   "pygments_lexer": "ipython3",
   "version": "3.9.7"
  }
 },
 "nbformat": 4,
 "nbformat_minor": 5
}
