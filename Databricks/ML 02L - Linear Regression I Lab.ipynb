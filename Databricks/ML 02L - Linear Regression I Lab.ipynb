{
 "cells": [
  {
   "cell_type": "markdown",
   "id": "3ab272b9",
   "metadata": {},
   "source": [
    "#Linear Regression Lab\n",
    "\n",
    "In the previous lesson, we predicted price using just one variable: bedrooms. Now, we want to predict price given a few other features.\n",
    "\n",
    "Steps:\n",
    "1. Use the features: **`bedrooms`**, **`bathrooms`**, **`bathrooms_na`**, **`minimum_nights`**, and **`number_of_reviews`** as input to your VectorAssembler.\n",
    "1. Build a Linear Regression Model\n",
    "1. Evaluate the **`RMSE`** and the **`R2`**.\n",
    "\n",
    "## In this lesson you:\n",
    " - Build a linear regression model with multiple features\n",
    " - Compute various metrics to evaluate goodness of fit"
   ]
  },
  {
   "cell_type": "code",
   "execution_count": 8,
   "id": "87a9c8c3",
   "metadata": {},
   "outputs": [],
   "source": [
    "# On importe les librairies dont on aura besoin pour ce tp\n",
    "import pandas as pd\n",
    "import numpy as np\n",
    "from sklearn.model_selection import train_test_split\n",
    "from sklearn.linear_model import LinearRegression\n",
    "from sklearn.metrics import mean_squared_error, r2_score\n",
    "\n",
    "Output_path = 'C:/Users/Thierno Barry/Documents/Machine Learning/00.data/output/'\n",
    "Iutput_path = 'C:/Users/Thierno Barry/Documents/Machine Learning/00.data/input/'"
   ]
  },
  {
   "cell_type": "code",
   "execution_count": 9,
   "id": "1806361e",
   "metadata": {},
   "outputs": [],
   "source": [
    "# Charger le fichier dans un DataFrame Pandas\n",
    "file_path = Iutput_path+\"sf-listings-2019-03-06-clean_delta.csv\"\n",
    "airbnb_df = pd.read_csv(file_path)"
   ]
  },
  {
   "cell_type": "code",
   "execution_count": 11,
   "id": "66a50087",
   "metadata": {},
   "outputs": [
    {
     "name": "stdout",
     "output_type": "stream",
     "text": [
      "5716\n",
      "1430\n"
     ]
    }
   ],
   "source": [
    "# Diviser le DataFrame en ensembles de formation et de test\n",
    "train_df, test_df = train_test_split(airbnb_df, test_size=0.2, random_state=42)\n",
    "\n",
    "print(train_df.shape[0])\n",
    "print(test_df.shape[0])"
   ]
  },
  {
   "cell_type": "code",
   "execution_count": 12,
   "id": "49dd8b9b",
   "metadata": {},
   "outputs": [],
   "source": [
    "# Assembler les caractéristiques en un tableau numpy\n",
    "X_train = np.concatenate([train_df[\"bedrooms\"].values.reshape(-1, 1), \n",
    "                           train_df[\"bathrooms\"].values.reshape(-1, 1), \n",
    "                           train_df[\"bathrooms_na\"].values.reshape(-1, 1), \n",
    "                           train_df[\"minimum_nights\"].values.reshape(-1, 1), \n",
    "                           train_df[\"number_of_reviews\"].values.reshape(-1, 1)], axis=1)\n",
    "y_train = train_df[\"price\"].values\n",
    "\n",
    "X_test = np.concatenate([test_df[\"bedrooms\"].values.reshape(-1, 1), \n",
    "                          test_df[\"bathrooms\"].values.reshape(-1, 1), \n",
    "                          test_df[\"bathrooms_na\"].values.reshape(-1, 1), \n",
    "                          test_df[\"minimum_nights\"].values.reshape(-1, 1), \n",
    "                          test_df[\"number_of_reviews\"].values.reshape(-1, 1)], axis=1)\n",
    "y_test = test_df[\"price\"].values"
   ]
  },
  {
   "cell_type": "code",
   "execution_count": 13,
   "id": "64fc40ea",
   "metadata": {},
   "outputs": [
    {
     "data": {
      "text/plain": [
       "array([[  1. ,   1. ,   0. ,   1. , 266. ],\n",
       "       [  2. ,   1. ,   0. ,   2. ,   0. ],\n",
       "       [  1. ,   1.5,   0. ,   2. ,  50. ],\n",
       "       ...,\n",
       "       [  4. ,   2. ,   0. ,   3. ,  53. ],\n",
       "       [  1. ,   1. ,   0. ,   2. ,  40. ],\n",
       "       [  1. ,   1. ,   0. ,  30. ,   0. ]])"
      ]
     },
     "metadata": {},
     "output_type": "display_data"
    },
    {
     "data": {
      "text/plain": [
       "array([119, 500, 190, ..., 495, 149, 164], dtype=int64)"
      ]
     },
     "metadata": {},
     "output_type": "display_data"
    },
    {
     "data": {
      "text/plain": [
       "array([[  1.,   1.,   0.,   1.,  22.],\n",
       "       [  2.,   1.,   0.,   4., 108.],\n",
       "       [  0.,   1.,   0.,   1.,   1.],\n",
       "       ...,\n",
       "       [  1.,   1.,   0.,   3., 280.],\n",
       "       [  1.,   1.,   0.,  30.,   2.],\n",
       "       [  0.,   1.,   0.,  30.,   2.]])"
      ]
     },
     "metadata": {},
     "output_type": "display_data"
    },
    {
     "data": {
      "text/plain": [
       "array([120, 315, 180, ..., 140, 180,  87], dtype=int64)"
      ]
     },
     "metadata": {},
     "output_type": "display_data"
    }
   ],
   "source": [
    "display(X_train)\n",
    "display(y_train)\n",
    "display(X_test)\n",
    "display(y_test)"
   ]
  },
  {
   "cell_type": "code",
   "execution_count": 27,
   "id": "9253d49e",
   "metadata": {},
   "outputs": [
    {
     "name": "stdout",
     "output_type": "stream",
     "text": [
      "The formula for the linear regression line is y = 113.23x + 15.48\n"
     ]
    }
   ],
   "source": [
    "# Entraîner un modèle de régression linéaire\n",
    "lr_model = LinearRegression().fit(X_train, y_train)\n",
    "m = lr_model.coef_[0]\n",
    "b = lr_model.coef_[1]\n",
    "print(f\"The formula for the linear regression line is y = {m:.2f}x + {b:.2f}\")"
   ]
  },
  {
   "cell_type": "code",
   "execution_count": 20,
   "id": "35a15bc1",
   "metadata": {},
   "outputs": [
    {
     "data": {
      "text/plain": [
       "array([184.30555802, 271.12526204,  77.13942885, ..., 108.77113183,\n",
       "       174.78482665,  61.55640091])"
      ]
     },
     "metadata": {},
     "output_type": "display_data"
    }
   ],
   "source": [
    "# Faire des prédictions sur les données de test\n",
    "y_pred = lr_model.predict(X_test)\n",
    "display(y_pred)"
   ]
  },
  {
   "cell_type": "code",
   "execution_count": 18,
   "id": "baab68ee",
   "metadata": {},
   "outputs": [
    {
     "name": "stdout",
     "output_type": "stream",
     "text": [
      "RMSE is 269.1973682800626\n",
      "R2 is 0.14436849135852725\n"
     ]
    }
   ],
   "source": [
    "# Évaluer les performances du modèle\n",
    "rmse = np.sqrt(mean_squared_error(y_test, y_pred))\n",
    "r2 = r2_score(y_test, y_pred)\n",
    "print(f\"RMSE is {rmse}\")\n",
    "print(f\"R2 is {r2}\")"
   ]
  },
  {
   "cell_type": "code",
   "execution_count": 23,
   "id": "5abc5394",
   "metadata": {},
   "outputs": [
    {
     "name": "stdout",
     "output_type": "stream",
     "text": [
      "bedrooms 113.2284257415377\n",
      "bathrooms 15.481356631285463\n",
      "bathrooms_na -50.26198674407081\n",
      "minimum_nights -0.5273912813097487\n",
      "number_of_reviews -0.2886807892698568\n",
      "intercept: 62.474144291862586\n"
     ]
    }
   ],
   "source": [
    "# Examine the coefficients for each of the variables.\n",
    "for col, coef in zip([\"bedrooms\", \"bathrooms\", \"bathrooms_na\", \"minimum_nights\", \"number_of_reviews\"], lr_model.coef_):\n",
    "    print(col, coef)\n",
    "\n",
    "print(f\"intercept: {lr_model.intercept_}\")"
   ]
  },
  {
   "cell_type": "code",
   "execution_count": null,
   "id": "b23dbd7c",
   "metadata": {},
   "outputs": [],
   "source": []
  }
 ],
 "metadata": {
  "kernelspec": {
   "display_name": "Python 3 (ipykernel)",
   "language": "python",
   "name": "python3"
  },
  "language_info": {
   "codemirror_mode": {
    "name": "ipython",
    "version": 3
   },
   "file_extension": ".py",
   "mimetype": "text/x-python",
   "name": "python",
   "nbconvert_exporter": "python",
   "pygments_lexer": "ipython3",
   "version": "3.9.7"
  }
 },
 "nbformat": 4,
 "nbformat_minor": 5
}
